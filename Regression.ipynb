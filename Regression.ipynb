{
  "nbformat": 4,
  "nbformat_minor": 0,
  "metadata": {
    "kernelspec": {
      "display_name": "Python 3",
      "language": "python",
      "name": "python3"
    },
    "language_info": {
      "codemirror_mode": {
        "name": "ipython",
        "version": 3
      },
      "file_extension": ".py",
      "mimetype": "text/x-python",
      "name": "python",
      "nbconvert_exporter": "python",
      "pygments_lexer": "ipython3",
      "version": "3.8.3"
    },
    "colab": {
      "name": "Regression_lab04.ipynb",
      "provenance": [],
      "collapsed_sections": []
    }
  },
  "cells": [
    {
      "cell_type": "code",
      "metadata": {
        "id": "ypGFCgrTzobH"
      },
      "source": [
        "from sklearn.feature_selection import mutual_info_regression \n",
        "from sklearn.feature_selection import SelectPercentile\n",
        "import pandas as pd\n",
        "import numpy as np\n",
        "import matplotlib.pyplot as plt\n",
        "import seaborn as sns\n",
        "from sklearn.preprocessing import LabelEncoder\n",
        "from sklearn.metrics import mean_squared_error, r2_score\n",
        "\n",
        "%matplotlib inline\n",
        "sns.set(style='darkgrid', rc={'figure.figsize':(10,6)})\n",
        "\n",
        "import warnings\n",
        "warnings.filterwarnings(\"ignore\")"
      ],
      "execution_count": 48,
      "outputs": []
    },
    {
      "cell_type": "code",
      "metadata": {
        "colab": {
          "base_uri": "https://localhost:8080/"
        },
        "id": "7qL8sPaMzobK",
        "outputId": "e9da134e-c385-4714-82c3-c0d46f6b230c"
      },
      "source": [
        "df=pd.read_csv('depression_dataset.csv')\n",
        "df.shape"
      ],
      "execution_count": 49,
      "outputs": [
        {
          "output_type": "execute_result",
          "data": {
            "text/plain": [
              "(1007, 21)"
            ]
          },
          "metadata": {},
          "execution_count": 49
        }
      ]
    },
    {
      "cell_type": "code",
      "metadata": {
        "id": "u-SPbM3bJgym"
      },
      "source": [
        "def data_preparation(data):\n",
        "\n",
        "    data=data.drop(['Timestamp'],axis=1)\n",
        "    data=data.drop(['Have you done any recreational activity (sports, gaming, hobby etc.) today?'],axis=1)\n",
        "    data=data.set_index('Which year are you in?')\n",
        "    data_numeric=data.drop(data.iloc[:, [0,2,4,5,6,8,9,10,11,12,13,14,15,16]],axis=1)\n",
        "    data_non_numeric=data.drop(data.iloc[:, [1,3,7,17]],axis=1)\n",
        "    le=LabelEncoder()\n",
        "    encode=data_non_numeric.apply(le.fit_transform)\n",
        "    return pd.concat([encode,data_numeric],axis=1)\n",
        " "
      ],
      "execution_count": 50,
      "outputs": []
    },
    {
      "cell_type": "markdown",
      "metadata": {
        "id": "84JQbdlyzobL"
      },
      "source": [
        "# Data Preparation"
      ]
    },
    {
      "cell_type": "code",
      "metadata": {
        "colab": {
          "base_uri": "https://localhost:8080/"
        },
        "id": "0Ba-jVKFzobN",
        "outputId": "336ea2f1-6c4b-4a2b-fe63-9b86a04df55e"
      },
      "source": [
        "data_final=data_preparation(df)\n",
        "data_final.shape"
      ],
      "execution_count": 51,
      "outputs": [
        {
          "output_type": "execute_result",
          "data": {
            "text/plain": [
              "(1007, 18)"
            ]
          },
          "metadata": {},
          "execution_count": 51
        }
      ]
    },
    {
      "cell_type": "code",
      "metadata": {
        "colab": {
          "base_uri": "https://localhost:8080/"
        },
        "id": "C5IfYGYFSYPP",
        "outputId": "a0cf19aa-6d2a-4a3b-f685-896c5f96f84d"
      },
      "source": [
        "data_final.dtypes"
      ],
      "execution_count": 52,
      "outputs": [
        {
          "output_type": "execute_result",
          "data": {
            "text/plain": [
              "How are you feeling right now?                                                                  int64\n",
              "Gender                                                                                          int64\n",
              "Your location ?                                                                                 int64\n",
              "Relationship status                                                                             int64\n",
              "Are you happy with your financial state?                                                        int64\n",
              "Understanding with your family members?                                                         int64\n",
              "Are you feeling pressure in your study or work right now?                                       int64\n",
              "Are you satisfied with your academic result?                                                    int64\n",
              "Are you happy with your living place?                                                           int64\n",
              "Who supports you when you are not succeeding in your academic life?                             int64\n",
              "Have you used any social media within the last 6 hours?                                         int64\n",
              "Do you have inferiority complex?                                                                int64\n",
              "Are you satisfied with your meal today?                                                         int64\n",
              "Are you feeling sick/health issues today?                                                       int64\n",
              "On a scale of 1-100, how would you express this feeling?                                        int64\n",
              "Age                                                                                             int64\n",
              "How much have you succeeded to cope up with the environment of your educational institution?    int64\n",
              "How long did you sleep last night?(in hours)                                                    int64\n",
              "dtype: object"
            ]
          },
          "metadata": {},
          "execution_count": 52
        }
      ]
    },
    {
      "cell_type": "markdown",
      "metadata": {
        "id": "5duE4BjyzobO"
      },
      "source": [
        "# Feature Selection"
      ]
    },
    {
      "cell_type": "code",
      "metadata": {
        "id": "0ZaEeDkMOF4V"
      },
      "source": [
        "def important_features_visualization_linear(data):\n",
        "\n",
        "    X=data.drop('On a scale of 1-100, how would you express this feeling?',axis=1)\n",
        "    y=data['On a scale of 1-100, how would you express this feeling?']\n",
        "    imp=mutual_info_regression(X,y)\n",
        "    feat_imp=pd.Series(imp,data.columns[0:len(data.columns)-1])\n",
        "    feat_imp.sort_values(ascending=False).plot(kind='barh',color='teal',figsize=(20,10))\n",
        "    plt.show()"
      ],
      "execution_count": 79,
      "outputs": []
    },
    {
      "cell_type": "code",
      "metadata": {
        "colab": {
          "base_uri": "https://localhost:8080/",
          "height": 353
        },
        "id": "7Txrcp3YzobQ",
        "outputId": "2581c791-65a6-48b8-ea1a-236ed7f1252f"
      },
      "source": [
        "imp_feat_vis=important_features_visualization_linear(data_final)\n",
        "imp_feat_vis"
      ],
      "execution_count": 81,
      "outputs": [
        {
          "output_type": "display_data",
          "data": {
            "image/png": "[encoded data removed]",
            "text/plain": [
              "<Figure size 1440x720 with 1 Axes>"
            ]
          },
          "metadata": {}
        }
      ]
    },
    {
      "cell_type": "code",
      "metadata": {
        "id": "JxZNBGXUTwg7"
      },
      "source": [
        "def feature_selection_linear(data):\n",
        "\n",
        "    X=data.drop('On a scale of 1-100, how would you express this feeling?',axis=1)\n",
        "    y=data['On a scale of 1-100, how would you express this feeling?']\n",
        "    select=SelectPercentile(mutual_info_regression,percentile=30)\n",
        "    select.fit(X,y)\n",
        " \n",
        "    return X.columns[select.get_support()]"
      ],
      "execution_count": 55,
      "outputs": []
    },
    {
      "cell_type": "code",
      "metadata": {
        "colab": {
          "base_uri": "https://localhost:8080/"
        },
        "id": "kr1dsOytzobS",
        "outputId": "e27cd88e-558d-48f3-9fe7-ce4c2efe2d26"
      },
      "source": [
        "important_features=feature_selection_linear(data_final)\n",
        "important_features"
      ],
      "execution_count": 60,
      "outputs": [
        {
          "output_type": "execute_result",
          "data": {
            "text/plain": [
              "Index(['How are you feeling right now?', 'Your location ?',\n",
              "       'Do you have inferiority complex? ',\n",
              "       'Are you satisfied with your meal today?',\n",
              "       'How much have you succeeded to cope up with the environment of your educational institution?'],\n",
              "      dtype='object')"
            ]
          },
          "metadata": {},
          "execution_count": 60
        }
      ]
    },
    {
      "cell_type": "markdown",
      "metadata": {
        "id": "6oq-dUF-zobT"
      },
      "source": [
        "# Splitting the Data based on the Feature Selection"
      ]
    },
    {
      "cell_type": "code",
      "metadata": {
        "id": "8OmesgxVzobU"
      },
      "source": [
        "X=data_final[['Do you have inferiority complex? ','How are you feeling right now?', 'Are you satisfied with your meal today?', 'Your location ?', 'How much have you succeeded to cope up with the environment of your educational institution?']].values\n",
        "y=data_final['On a scale of 1-100, how would you express this feeling?'].values"
      ],
      "execution_count": 61,
      "outputs": []
    },
    {
      "cell_type": "code",
      "metadata": {
        "id": "Fkyq1kE4zobV"
      },
      "source": [
        "from sklearn.model_selection import train_test_split"
      ],
      "execution_count": 62,
      "outputs": []
    },
    {
      "cell_type": "code",
      "metadata": {
        "id": "1qd5b9_vzobW"
      },
      "source": [
        "X_train,X_test,y_train,y_test=train_test_split(X,y,test_size=0.20,random_state=21)"
      ],
      "execution_count": 63,
      "outputs": []
    },
    {
      "cell_type": "code",
      "metadata": {
        "id": "2LjhOXCa5ZIT"
      },
      "source": [
        "mean_y = np.mean(y_test)"
      ],
      "execution_count": 64,
      "outputs": []
    },
    {
      "cell_type": "markdown",
      "metadata": {
        "id": "lQ7905mHzobW"
      },
      "source": [
        "# Linear Regression from Scratch"
      ]
    },
    {
      "cell_type": "markdown",
      "metadata": {
        "id": "sdimDpEbzobX"
      },
      "source": [
        "### <span style='color:green'>***Step-1***</span>***:*** <span style='color:red'>***Initialize the Parameters which are weight and bias***</span>"
      ]
    },
    {
      "cell_type": "code",
      "metadata": {
        "id": "XszQbM7bzobX"
      },
      "source": [
        "def initialize_parameters(lenw):\n",
        "    \"\"\"The numpy.random.randn() function creates an array of specified shape and fills it with random values as per standard \n",
        "    normal distribution.\n",
        "    \n",
        "    Arg: \n",
        "       lenw: n numbers of training samlple i.e. X_train.shape[0]\n",
        "    Returns:\n",
        "          weight and bias\n",
        "    \"\"\"\n",
        "    w=np.random.randn(1, lenw)\n",
        "    b=0\n",
        "    return w, b"
      ],
      "execution_count": 65,
      "outputs": []
    },
    {
      "cell_type": "markdown",
      "metadata": {
        "id": "E5-JHK6izobY"
      },
      "source": [
        "### <span style='color:green'>***Step-2***</span>***:*** <span style='color:red'>***Forward Propagation***</span>"
      ]
    },
    {
      "cell_type": "code",
      "metadata": {
        "id": "souEIvluzobY"
      },
      "source": [
        "def forward_prop(X, w, b):\n",
        "    \"\"\"A linear function or prediction function which is the matrix multiplication of the training samples and weights and then \n",
        "    sum up the bias.\n",
        "    \n",
        "    Args:\n",
        "        X: X_train\n",
        "        w, b: weights and bias from the step 1.\n",
        "    Returns:\n",
        "          z: The result of the calculation\n",
        "    \"\"\"\n",
        "    y_pred=np.dot(w, X)+b\n",
        "    return y_pred"
      ],
      "execution_count": 66,
      "outputs": []
    },
    {
      "cell_type": "markdown",
      "metadata": {
        "id": "-fHCEIHbzobY"
      },
      "source": [
        "### <span style='color:green'>***Step-3***</span>***:*** <span style='color:red'>***Cost Function***</span>"
      ]
    },
    {
      "cell_type": "code",
      "metadata": {
        "id": "eY19q82ezobZ"
      },
      "source": [
        "def cost_function(y_pred, y):\n",
        "    \"\"\"Cost function  is (1/2) of mean squared error.\n",
        "    \n",
        "    Args:\n",
        "        y_pred: Prediction funtion\n",
        "        y: True value\n",
        "    Returns: \n",
        "        J: Cost function\n",
        "    \"\"\"\n",
        "    m=y.shape[1]\n",
        "    J=(1/(2*m))*np.sum(np.square(y_pred-y))\n",
        "    return J"
      ],
      "execution_count": 67,
      "outputs": []
    },
    {
      "cell_type": "markdown",
      "metadata": {
        "id": "DOEDyOT9zoba"
      },
      "source": [
        "### <span style='color:green'>***Step-4***</span>***:*** <span style='color:red'>***Backward Propagation***</span>"
      ]
    },
    {
      "cell_type": "code",
      "metadata": {
        "id": "u8Z-03SQzoba"
      },
      "source": [
        "# row vector mul with col vec. (1xm)x(mxn)=(1xn). Rows are transposed into cols\n",
        "def back_prop(X, y, y_pred):\n",
        "    \"\"\"Finds the derivative of weight's and bias's.\n",
        "    \n",
        "    Args:\n",
        "        X: Independent variables\n",
        "        y: Dependent variables\n",
        "        y_pred: Found from prediction function\n",
        "    Returns:\n",
        "        dw, db: Derivative of weight's and bais's\n",
        "    \"\"\"\n",
        "    m=y.shape[1]\n",
        "    dy_pred=(1/m)*(y_pred-y)\n",
        "    dw=np.dot(dy_pred, X.T)\n",
        "    db=np.sum(dy_pred)\n",
        "    return dw, db"
      ],
      "execution_count": 68,
      "outputs": []
    },
    {
      "cell_type": "markdown",
      "metadata": {
        "id": "dxYJ9iUozobb"
      },
      "source": [
        "### <span style='color:green'>***Step-5***</span>***:*** <span style='color:red'>***Gradient Descent***</span>"
      ]
    },
    {
      "cell_type": "code",
      "metadata": {
        "id": "WUW84an7zobb"
      },
      "source": [
        "def gradient_descent(w, b, dw, db, lr):\n",
        "    \"\"\"Update of weight and bias.\n",
        "    \n",
        "    Args:\n",
        "        w, b, dw, db, lr: Old weights and bias's with their derivatives and learning rate(lr)\n",
        "    Returns:\n",
        "        w, b: Updated weight and bias\n",
        "    \"\"\"\n",
        "    w=w-lr*dw\n",
        "    b=b-lr*db\n",
        "    return w, b"
      ],
      "execution_count": 69,
      "outputs": []
    },
    {
      "cell_type": "code",
      "metadata": {
        "id": "2aUfsrzSzobg"
      },
      "source": [
        "def linear_regression_model(X_train, y_train, X_test, y_test, lr, epochs):\n",
        "    \"\"\"This function puts all the 5 steps altogether and builds the linear regreesion model from scratch.\n",
        "    \n",
        "    Args:\n",
        "       Training and testing data with a learning rate(lr) and iteration(epochs)\n",
        "    Returns:\n",
        "        Training and testing costs and mean absolute errors and also plots them.\n",
        "    \"\"\"\n",
        "    lenw=X_train.shape[0]\n",
        "    w, b=initialize_parameters(lenw) #step1\n",
        "    costs_train=[]\n",
        "    costs_test=[]\n",
        "    MAEs_train=[]\n",
        "    MAEs_test=[]\n",
        "    m_train=y_train.shape[1]\n",
        "    m_test=y_test.shape[1]\n",
        "    \n",
        "    for i in range(1,epochs+1):\n",
        "        #training set\n",
        "        y_pred_train=forward_prop(X_train, w, b) #step2\n",
        "        cost_train=cost_function(y_pred_train, y_train) #step3\n",
        "        dw, db=back_prop(X_train, y_train, y_pred_train) #step4\n",
        "        w, b=gradient_descent(w, b, dw, db, lr) #step5\n",
        "        \n",
        "        if i%10==0:\n",
        "            costs_train.append(cost_train)\n",
        "        MAE_train=(1/m_train)*np.sum(np.abs(y_pred_train-y_train))\n",
        "        if i%10==0:\n",
        "            MAEs_train.append(MAE_train)\n",
        "        \n",
        "        #testing set\n",
        "        y_pred_test=forward_prop(X_test, w, b)\n",
        "        \n",
        "        cost_test=cost_function(y_pred_test, y_test)\n",
        "        if i%10==0:\n",
        "            costs_test.append(cost_test)\n",
        "        MAE_test=(1/m_test)*np.sum(np.abs(y_pred_test-y_test))\n",
        "        if i%10==0:\n",
        "            MAEs_test.append(MAE_test)\n",
        "        \n",
        "        print('Epochs '+str(i)+' /'+str(epochs)+': ')\n",
        "        print('Training Cost '+str(cost_train)+'|'+' Testing Cost '+str(cost_test))\n",
        "        print('Training MAE '+str(MAE_train)+'|'+' Testing MAE '+str(MAE_test))\n",
        "    \n",
        "    plt.plot(costs_train, color='orange', label='Training Cost')\n",
        "    plt.plot(costs_test, color='blue', label='Testing Cost')\n",
        "    plt.xlabel('Iterations (per 10)', fontsize=18)\n",
        "    plt.ylabel('Cost', fontsize=18)\n",
        "    plt.title('Learning Rate '+str(lr), fontsize=18)\n",
        "    plt.legend(prop={'size': 15})\n",
        "    plt.tight_layout()\n",
        "    plt.show();\n",
        "    \n",
        "    plt.plot(MAEs_train, color='orange', label='Training Mean absolute Error')\n",
        "    plt.plot(MAEs_test, color='blue', label='Testing Mean absolute Error')\n",
        "    plt.xlabel('Iterations (per 10)', fontsize=18)\n",
        "    plt.ylabel('Mean absolute Error', fontsize=18)\n",
        "    plt.title('Learning Rate '+str(lr), fontsize=18)\n",
        "    plt.legend(prop={'size': 15})\n",
        "    plt.tight_layout()\n",
        "    plt.show();"
      ],
      "execution_count": 70,
      "outputs": []
    },
    {
      "cell_type": "markdown",
      "metadata": {
        "id": "JkkqsETAzobh"
      },
      "source": [
        "# Scaling the Independent Features"
      ]
    },
    {
      "cell_type": "code",
      "metadata": {
        "id": "_QV8rMN1zobh"
      },
      "source": [
        "def normalize(X):\n",
        "    \"\"\"Scaling the independent variables.\n",
        "    \n",
        "    Arg:\n",
        "       X: Training and testing independent variables\n",
        "    Returns:\n",
        "       Normalized variables\n",
        "    \"\"\"\n",
        "    X=(X-X.mean())/(X.max()-X.min())\n",
        "    return X"
      ],
      "execution_count": 71,
      "outputs": []
    },
    {
      "cell_type": "code",
      "metadata": {
        "id": "r28sx73Czobh"
      },
      "source": [
        "X_train=normalize(X_train)\n",
        "X_test=normalize(X_test)"
      ],
      "execution_count": 72,
      "outputs": []
    },
    {
      "cell_type": "markdown",
      "metadata": {
        "id": "f24pKLTLzobi"
      },
      "source": [
        "# Reshaping the Data for the Model"
      ]
    },
    {
      "cell_type": "code",
      "metadata": {
        "colab": {
          "base_uri": "https://localhost:8080/"
        },
        "id": "zmnDmCofzobi",
        "outputId": "8b1da016-0167-4b87-aa93-af8404c78210"
      },
      "source": [
        "X_train.shape, y_train.shape, X_test.shape, y_test.shape"
      ],
      "execution_count": 73,
      "outputs": [
        {
          "output_type": "execute_result",
          "data": {
            "text/plain": [
              "((805, 5), (805,), (202, 5), (202,))"
            ]
          },
          "metadata": {},
          "execution_count": 73
        }
      ]
    },
    {
      "cell_type": "code",
      "metadata": {
        "id": "hT6gH2thzobi"
      },
      "source": [
        "def reshaping(train_x, train_y, test_x, test_y):\n",
        "    \"\"\"For Linear Regression model, it requires X_train, X_test=(n_features x n_training_samples) and\n",
        "                                                   y_train, y_test=(1 x m_train where m_train=n_training_samples)\n",
        "    So reshaping the data.\n",
        "    \n",
        "    Args:\n",
        "        Takes the training and testing samples\n",
        "    Returns:\n",
        "        Reshaped data\n",
        "    \"\"\"\n",
        "    train_x=train_x.T\n",
        "    train_y=np.array([train_y])\n",
        "    test_x=test_x.T\n",
        "    test_y=np.array([test_y])\n",
        "    \n",
        "    return train_x, train_y, test_x, test_y"
      ],
      "execution_count": 74,
      "outputs": []
    },
    {
      "cell_type": "code",
      "metadata": {
        "colab": {
          "base_uri": "https://localhost:8080/"
        },
        "id": "9uE1nzs6zobj",
        "outputId": "01232610-2a57-4d98-b953-f8767b9bad33"
      },
      "source": [
        "X_train, y_train, X_test, y_test=reshaping(X_train, y_train, X_test, y_test)\n",
        "X_train.shape, y_train.shape, X_test.shape, y_test.shape"
      ],
      "execution_count": 75,
      "outputs": [
        {
          "output_type": "execute_result",
          "data": {
            "text/plain": [
              "((5, 805), (1, 805), (5, 202), (1, 202))"
            ]
          },
          "metadata": {},
          "execution_count": 75
        }
      ]
    },
    {
      "cell_type": "markdown",
      "metadata": {
        "id": "1_KFGi5pzobj"
      },
      "source": [
        "# Calling the Raw Model"
      ]
    },
    {
      "cell_type": "code",
      "metadata": {
        "scrolled": true,
        "colab": {
          "base_uri": "https://localhost:8080/",
          "height": 1000
        },
        "id": "NX3fD6QKzobk",
        "outputId": "98365a60-c452-45f0-a539-8214d2132d8d"
      },
      "source": [
        "linear_regression_model(X_train, y_train, X_test, y_test, lr=0.4, epochs=300)"
      ],
      "execution_count": 76,
      "outputs": [
        {
          "output_type": "stream",
          "name": "stdout",
          "text": [
            "Epochs 1 /300: \n",
            "Training Cost 2138.977956301749| Testing Cost 793.7945929270562\n",
            "Training MAE 60.18445177552704| Testing MAE 34.945838767705844\n",
            "Epochs 2 /300: \n",
            "Training Cost 814.783934821102| Testing Cost 426.80889322049813\n",
            "Training MAE 35.917097820184054| Testing MAE 27.064176803709394\n",
            "Epochs 3 /300: \n",
            "Training Cost 435.6597310280721| Testing Cost 323.8845460066871\n",
            "Training MAE 27.527924599032733| Testing MAE 23.034430833602052\n",
            "Epochs 4 /300: \n",
            "Training Cost 325.68169775369813| Testing Cost 294.37576728090704\n",
            "Training MAE 23.125066946292538| Testing MAE 20.872015582336154\n",
            "Epochs 5 /300: \n",
            "Training Cost 292.4161142476296| Testing Cost 284.8597679373638\n",
            "Training MAE 20.823214844924365| Testing MAE 19.74130261237471\n",
            "Epochs 6 /300: \n",
            "Training Cost 281.07345437078664| Testing Cost 280.5853820369733\n",
            "Training MAE 19.655786272096947| Testing MAE 19.241462954452075\n",
            "Epochs 7 /300: \n",
            "Training Cost 276.0502834816203| Testing Cost 277.59790140909183\n",
            "Training MAE 19.135419285519685| Testing MAE 18.998478246459637\n",
            "Epochs 8 /300: \n",
            "Training Cost 272.89939912397773| Testing Cost 274.9013696413143\n",
            "Training MAE 18.856124730812997| Testing MAE 18.82529322854526\n",
            "Epochs 9 /300: \n",
            "Training Cost 270.3500368421657| Testing Cost 272.2802654989641\n",
            "Training MAE 18.672681031175433| Testing MAE 18.69264261964388\n",
            "Epochs 10 /300: \n",
            "Training Cost 268.036087886618| Testing Cost 269.7079847000755\n",
            "Training MAE 18.540508626094695| Testing MAE 18.580848124663685\n",
            "Epochs 11 /300: \n",
            "Training Cost 265.84932095084827| Testing Cost 267.1938920543719\n",
            "Training MAE 18.436453613120893| Testing MAE 18.480934179962908\n",
            "Epochs 12 /300: \n",
            "Training Cost 263.7552251830019| Testing Cost 264.74811103378136\n",
            "Training MAE 18.34716746658766| Testing MAE 18.38823641339626\n",
            "Epochs 13 /300: \n",
            "Training Cost 261.74055807575223| Testing Cost 262.37598705126146\n",
            "Training MAE 18.266404540002725| Testing MAE 18.300358181634152\n",
            "Epochs 14 /300: \n",
            "Training Cost 259.7983901861267| Testing Cost 260.07892308203753\n",
            "Training MAE 18.19081119387944| Testing MAE 18.2176657125586\n",
            "Epochs 15 /300: \n",
            "Training Cost 257.92382663177676| Testing Cost 257.8559098548004\n",
            "Training MAE 18.118577696749323| Testing MAE 18.13751874907162\n",
            "Epochs 16 /300: \n",
            "Training Cost 256.1127698646463| Testing Cost 255.70465035847897\n",
            "Training MAE 18.0487188962817| Testing MAE 18.05946854475626\n",
            "Epochs 17 /300: \n",
            "Training Cost 254.3615498447336| Testing Cost 253.62224400619706\n",
            "Training MAE 17.980999565787627| Testing MAE 17.983250194179607\n",
            "Epochs 18 /300: \n",
            "Training Cost 252.66680260571354| Testing Cost 251.60557086117183\n",
            "Training MAE 17.91526337615759| Testing MAE 17.908697917596147\n",
            "Epochs 19 /300: \n",
            "Training Cost 251.02542086744802| Testing Cost 249.65149690901686\n",
            "Training MAE 17.851005913647132| Testing MAE 17.837190320610333\n",
            "Epochs 20 /300: \n",
            "Training Cost 249.43452638131367| Testing Cost 247.75697846078376\n",
            "Training MAE 17.787964388100818| Testing MAE 17.767855643379573\n",
            "Epochs 21 /300: \n",
            "Training Cost 247.89144958297234| Testing Cost 245.9191114014545\n",
            "Training MAE 17.726971756384643| Testing MAE 17.699892307230343\n",
            "Epochs 22 /300: \n",
            "Training Cost 246.39371235275019| Testing Cost 244.1351509170002\n",
            "Training MAE 17.667454812154347| Testing MAE 17.63324611761338\n",
            "Epochs 23 /300: \n",
            "Training Cost 244.9390126026343| Testing Cost 242.40251576128958\n",
            "Training MAE 17.60922255853937| Testing MAE 17.56786857693115\n",
            "Epochs 24 /300: \n",
            "Training Cost 243.52521024696824| Testing Cost 240.71878467731207\n",
            "Training MAE 17.55197704807124| Testing MAE 17.503715019208528\n",
            "Epochs 25 /300: \n",
            "Training Cost 242.15031435903342| Testing Cost 239.08168905604205\n",
            "Training MAE 17.495684372249002| Testing MAE 17.440743581419884\n",
            "Epochs 26 /300: \n",
            "Training Cost 240.81247139145827| Testing Cost 237.48910400002242\n",
            "Training MAE 17.440313384850853| Testing MAE 17.37891462264566\n",
            "Epochs 27 /300: \n",
            "Training Cost 239.5099543654374| Testing Cost 235.93903892488038\n",
            "Training MAE 17.385834925131782| Testing MAE 17.318190383534432\n",
            "Epochs 28 /300: \n",
            "Training Cost 238.24115294646435| Testing Cost 234.42962827679767\n",
            "Training MAE 17.33222138204843| Testing MAE 17.258534775285916\n",
            "Epochs 29 /300: \n",
            "Training Cost 237.00456433249977| Testing Cost 232.95912264735793\n",
            "Training MAE 17.279446441343215| Testing MAE 17.199913238988774\n",
            "Epochs 30 /300: \n",
            "Training Cost 235.79878488705782| Testing Cost 231.5258804099011\n",
            "Training MAE 17.227484931057507| Testing MAE 17.14229264369135\n",
            "Epochs 31 /300: \n",
            "Training Cost 234.62250245542378| Testing Cost 230.12835991910194\n",
            "Training MAE 17.17631272038826| Testing MAE 17.085641206282162\n",
            "Epochs 32 /300: \n",
            "Training Cost 233.4744893073938| Testing Cost 228.7651122732126\n",
            "Training MAE 17.12590664779729| Testing MAE 17.02992842410194\n",
            "Epochs 33 /300: \n",
            "Training Cost 232.35359565464546| Testing Cost 227.43477461756288\n",
            "Training MAE 17.076288027176805| Testing MAE 16.975125015396547\n",
            "Epochs 34 /300: \n",
            "Training Cost 231.2587436951724| Testing Cost 226.13606395843817\n",
            "Training MAE 17.02755888195065| Testing MAE 16.921202864956847\n",
            "Epochs 35 /300: \n",
            "Training Cost 230.18892214117378| Testing Cost 224.86777145296216\n",
            "Training MAE 16.97953196426893| Testing MAE 16.86813497348664\n",
            "Epochs 36 /300: \n",
            "Training Cost 229.1431811904171| Testing Cost 223.62875714018878\n",
            "Training MAE 16.93218743324365| Testing MAE 16.815895409879158\n",
            "Epochs 37 /300: \n",
            "Training Cost 228.12062790442042| Testing Cost 222.41794507972963\n",
            "Training MAE 16.885506208425895| Testing MAE 16.764459265925936\n",
            "Epochs 38 /300: \n",
            "Training Cost 227.1204219598478| Testing Cost 221.23431886607267\n",
            "Training MAE 16.839469937683464| Testing MAE 16.713802613166223\n",
            "Epochs 39 /300: \n",
            "Training Cost 226.14177174230625| Testing Cost 220.0769174888623\n",
            "Training MAE 16.794060966743167| Testing MAE 16.66390246168538\n",
            "Epochs 40 /300: \n",
            "Training Cost 225.18393075429344| Testing Cost 218.94483151158056\n",
            "Training MAE 16.749262310182566| Testing MAE 16.614736720725674\n",
            "Epochs 41 /300: \n",
            "Training Cost 224.24619431139644| Testing Cost 217.83719954318818\n",
            "Training MAE 16.705057623732785| Testing MAE 16.566904682749488\n",
            "Epochs 42 /300: \n",
            "Training Cost 223.3278965029891| Testing Cost 216.75320497928985\n",
            "Training MAE 16.661431177795574| Testing MAE 16.519846628827555\n",
            "Epochs 43 /300: \n",
            "Training Cost 222.42840739565426| Testing Cost 215.69207299126936\n",
            "Training MAE 16.618367832101164| Testing MAE 16.473455830081633\n",
            "Epochs 44 /300: \n",
            "Training Cost 221.54713045936222| Testing Cost 214.65306774358\n",
            "Training MAE 16.576216911025103| Testing MAE 16.42771351082228\n",
            "Epochs 45 /300: \n",
            "Training Cost 220.6835001980956| Testing Cost 213.6354898209861\n",
            "Training MAE 16.53516229859724| Testing MAE 16.382601620229888\n",
            "Epochs 46 /300: \n",
            "Training Cost 219.8369799681321| Testing Cost 212.63867384903347\n",
            "Training MAE 16.494907586678238| Testing MAE 16.338269554400643\n",
            "Epochs 47 /300: \n",
            "Training Cost 219.0070599685875| Testing Cost 211.66198629238525\n",
            "Training MAE 16.45635526167806| Testing MAE 16.295949161547973\n",
            "Epochs 48 /300: \n",
            "Training Cost 218.19325539010146| Testing Cost 210.70482341691573\n",
            "Training MAE 16.418302798511558| Testing MAE 16.25419769206127\n",
            "Epochs 49 /300: \n",
            "Training Cost 217.39510470871664| Testing Cost 209.76660940259887\n",
            "Training MAE 16.380698765422988| Testing MAE 16.21299967723044\n",
            "Epochs 50 /300: \n",
            "Training Cost 216.61216811307813| Testing Cost 208.84679459528527\n",
            "Training MAE 16.34353238106849| Testing MAE 16.17234024071704\n",
            "Epochs 51 /300: \n",
            "Training Cost 215.84402605406137| Testing Cost 207.9448538864285\n",
            "Training MAE 16.306793255770685| Testing MAE 16.13220507383096\n",
            "Epochs 52 /300: \n",
            "Training Cost 215.09027790684146| Testing Cost 207.06028521070962\n",
            "Training MAE 16.270471375525258| Testing MAE 16.092580411857707\n",
            "Epochs 53 /300: \n",
            "Training Cost 214.35054073624153| Testing Cost 206.19260815232414\n",
            "Training MAE 16.23455708667943| Testing MAE 16.053453011391625\n",
            "Epochs 54 /300: \n",
            "Training Cost 213.6244481569586| Testing Cost 205.34136265144227\n",
            "Training MAE 16.199041081253863| Testing MAE 16.014810128632053\n",
            "Epochs 55 /300: \n",
            "Training Cost 212.91164928095745| Testing Cost 204.50610780304334\n",
            "Training MAE 16.163914382880662| Testing MAE 15.976639498601399\n",
            "Epochs 56 /300: \n",
            "Training Cost 212.21180774496432| Testing Cost 203.68642074094993\n",
            "Training MAE 16.129168333331485| Testing MAE 15.938929315245721\n",
            "Epochs 57 /300: \n",
            "Training Cost 211.52460081157253| Testing Cost 202.88189560047167\n",
            "Training MAE 16.094794579610728| Testing MAE 15.90166821238029\n",
            "Epochs 58 /300: \n",
            "Training Cost 210.84971853801056| Testing Cost 202.09214255359393\n",
            "Training MAE 16.06078506158978| Testing MAE 15.864845245444004\n",
            "Epochs 59 /300: \n",
            "Training Cost 210.18686300711363| Testing Cost 201.31678691113848\n",
            "Training MAE 16.027132000159664| Testing MAE 15.828449874028196\n",
            "Epochs 60 /300: \n",
            "Training Cost 209.5357476154896| Testing Cost 200.55546828676742\n",
            "Training MAE 15.993827885879854| Testing MAE 15.792471945146838\n",
            "Epochs 61 /300: \n",
            "Training Cost 208.89609641428407| Testing Cost 199.8078398181142\n",
            "Training MAE 15.961314946054326| Testing MAE 15.756901677216442\n",
            "Epochs 62 /300: \n",
            "Training Cost 208.26764349832703| Testing Cost 199.0735674407019\n",
            "Training MAE 15.929625284407694| Testing MAE 15.721729644715492\n",
            "Epochs 63 /300: \n",
            "Training Cost 207.65013243979146| Testing Cost 198.35232921065565\n",
            "Training MAE 15.898598660386394| Testing MAE 15.686946763494369\n",
            "Epochs 64 /300: \n",
            "Training Cost 207.04331576281223| Testing Cost 197.64381467253392\n",
            "Training MAE 15.86788158048948| Testing MAE 15.652544276708065\n",
            "Epochs 65 /300: \n",
            "Training Cost 206.446954455806| Testing Cost 196.94772426889566\n",
            "Training MAE 15.837467956470835| Testing MAE 15.618513741345103\n",
            "Epochs 66 /300: \n",
            "Training Cost 205.86081751849943| Testing Cost 196.2637687884879\n",
            "Training MAE 15.807351903271034| Testing MAE 15.58484701532725\n",
            "Epochs 67 /300: \n",
            "Training Cost 205.2846815409202| Testing Cost 195.59166885018615\n",
            "Training MAE 15.777557999176139| Testing MAE 15.552189127971442\n",
            "Epochs 68 /300: \n",
            "Training Cost 204.71833031182902| Testing Cost 194.93115442004523\n",
            "Training MAE 15.748110361058409| Testing MAE 15.527390848364838\n",
            "Epochs 69 /300: \n",
            "Training Cost 204.16155445427802| Testing Cost 194.28196435902623\n",
            "Training MAE 15.718942114958695| Testing MAE 15.50283672364429\n",
            "Epochs 70 /300: \n",
            "Training Cost 203.61415108616953| Testing Cost 193.6438459991574\n",
            "Training MAE 15.690048129782614| Testing MAE 15.47852208648531\n",
            "Epochs 71 /300: \n",
            "Training Cost 203.07592350386398| Testing Cost 193.01655474606105\n",
            "Training MAE 15.661423440334273| Testing MAE 15.454442433759537\n",
            "Epochs 72 /300: \n",
            "Training Cost 202.54668088704457| Testing Cost 192.39985370594127\n",
            "Training MAE 15.633063240751449| Testing MAE 15.430593419458072\n",
            "Epochs 73 /300: \n",
            "Training Cost 202.0262380231915| Testing Cost 191.7935133352748\n",
            "Training MAE 15.604962878213998| Testing MAE 15.406970847928697\n",
            "Epochs 74 /300: \n",
            "Training Cost 201.5144150501533| Testing Cost 191.19731111158399\n",
            "Training MAE 15.577117846914122| Testing MAE 15.383570667413249\n",
            "Epochs 75 /300: \n",
            "Training Cost 201.01103721542682| Testing Cost 190.6110312237963\n",
            "Training MAE 15.549523782277237| Testing MAE 15.360388963871713\n",
            "Epochs 76 /300: \n",
            "Training Cost 200.51593465086768| Testing Cost 190.03446428081088\n",
            "Training MAE 15.52217645542307| Testing MAE 15.33742195508056\n",
            "Epochs 77 /300: \n",
            "Training Cost 200.028942161659| Testing Cost 189.4674070369971\n",
            "Training MAE 15.495071767856674| Testing MAE 15.314665984993143\n",
            "Epochs 78 /300: \n",
            "Training Cost 199.54989902845892| Testing Cost 188.90966213344834\n",
            "Training MAE 15.468205746379784| Testing MAE 15.292117518350608\n",
            "Epochs 79 /300: \n",
            "Training Cost 199.07864882173595| Testing Cost 188.36103785390645\n",
            "Training MAE 15.441574538213208| Testing MAE 15.269773135532226\n",
            "Epochs 80 /300: \n",
            "Training Cost 198.6150392273816| Testing Cost 187.82134789434915\n",
            "Training MAE 15.415174406321283| Testing MAE 15.247629527634604\n",
            "Epochs 81 /300: \n",
            "Training Cost 198.15892188275976| Testing Cost 187.29041114531546\n",
            "Training MAE 15.38900172492997| Testing MAE 15.225683491769638\n",
            "Epochs 82 /300: \n",
            "Training Cost 197.7101522224243| Testing Cost 186.76805148610921\n",
            "Training MAE 15.369643403805506| Testing MAE 15.203931926571508\n",
            "Epochs 83 /300: \n",
            "Training Cost 197.2685893327942| Testing Cost 186.25409759008716\n",
            "Training MAE 15.350731638879312| Testing MAE 15.182371827903511\n",
            "Epochs 84 /300: \n",
            "Training Cost 196.83409581513396| Testing Cost 185.7483827402975\n",
            "Training MAE 15.331962916217714| Testing MAE 15.161000284755858\n",
            "Epochs 85 /300: \n",
            "Training Cost 196.40653765623887| Testing Cost 185.25074465478855\n",
            "Training MAE 15.313335682217927| Testing MAE 15.139814475325945\n",
            "Epochs 86 /300: \n",
            "Training Cost 195.98578410627204| Testing Cost 184.76102532095848\n",
            "Training MAE 15.29484842125659| Testing MAE 15.118811663273076\n",
            "Epochs 87 /300: \n",
            "Training Cost 195.57170756324416| Testing Cost 184.27907083836266\n",
            "Training MAE 15.276499654078266| Testing MAE 15.09798919413987\n",
            "Epochs 88 /300: \n",
            "Training Cost 195.16418346366734| Testing Cost 183.804731269438\n",
            "Training MAE 15.258287936259567| Testing MAE 15.077344491932923\n",
            "Epochs 89 /300: \n",
            "Training Cost 194.7630901789504| Testing Cost 183.3378604976432\n",
            "Training MAE 15.240211856745344| Testing MAE 15.056875055855704\n",
            "Epochs 90 /300: \n",
            "Training Cost 194.36830891713902| Testing Cost 182.87831609255113\n",
            "Training MAE 15.222343229703604| Testing MAE 15.036578457186918\n",
            "Epochs 91 /300: \n",
            "Training Cost 193.97972362963154| Testing Cost 182.42595918146012\n",
            "Training MAE 15.204779494598984| Testing MAE 15.016452336297862\n",
            "Epochs 92 /300: \n",
            "Training Cost 193.5972209225348| Testing Cost 181.98065432712605\n",
            "Training MAE 15.187345553180279| Testing MAE 14.996494399802572\n",
            "Epochs 93 /300: \n",
            "Training Cost 193.22068997234564| Testing Cost 181.5422694112408\n",
            "Training MAE 15.170040144679993| Testing MAE 14.976702417834899\n",
            "Epochs 94 /300: \n",
            "Training Cost 192.85002244567184| Testing Cost 181.11067552331411\n",
            "Training MAE 15.152862034226029| Testing MAE 14.957074221446826\n",
            "Epochs 95 /300: \n",
            "Training Cost 192.48511242272525| Testing Cost 180.6857468546355\n",
            "Training MAE 15.136180197024064| Testing MAE 14.937607700122681\n",
            "Epochs 96 /300: \n",
            "Training Cost 192.12585632434298| Testing Cost 180.2673605970183\n",
            "Training MAE 15.119674406179632| Testing MAE 14.918300799403989\n",
            "Epochs 97 /300: \n",
            "Training Cost 191.77215284230977| Testing Cost 179.85539684604709\n",
            "Training MAE 15.10328839988328| Testing MAE 14.89933125219246\n",
            "Epochs 98 /300: \n",
            "Training Cost 191.42390287277075| Testing Cost 179.44973850857076\n",
            "Training MAE 15.087021095445468| Testing MAE 14.882077653610294\n",
            "Epochs 99 /300: \n",
            "Training Cost 191.08100945254267| Testing Cost 179.05027121419783\n",
            "Training MAE 15.070871429832266| Testing MAE 14.86496407417575\n",
            "Epochs 100 /300: \n",
            "Training Cost 190.74337769814375| Testing Cost 178.65688323057114\n",
            "Training MAE 15.054838358896019| Testing MAE 14.847988844468407\n",
            "Epochs 101 /300: \n",
            "Training Cost 190.4109147473759| Testing Cost 178.26946538221014\n",
            "Training MAE 15.038920856642921| Testing MAE 14.832010301849294\n",
            "Epochs 102 /300: \n",
            "Training Cost 190.08352970330682| Testing Cost 177.88791097272704\n",
            "Training MAE 15.02311791453574| Testing MAE 14.8165212934159\n",
            "Epochs 103 /300: \n",
            "Training Cost 189.76113358050867| Testing Cost 177.51211571023197\n",
            "Training MAE 15.00742854083003| Testing MAE 14.801154305817452\n",
            "Epochs 104 /300: \n",
            "Training Cost 189.44363925342307| Testing Cost 177.14197763575748\n",
            "Training MAE 14.991851759942223| Testing MAE 14.785907990424347\n",
            "Epochs 105 /300: \n",
            "Training Cost 189.13096140672835| Testing Cost 176.7773970545425\n",
            "Training MAE 14.976386611848058| Testing MAE 14.770781029396241\n",
            "Epochs 106 /300: \n",
            "Training Cost 188.8230164875977| Testing Cost 176.41827647002586\n",
            "Training MAE 14.961045954140655| Testing MAE 14.755772134460981\n",
            "Epochs 107 /300: \n",
            "Training Cost 188.51972265974143| Testing Cost 176.06452052040984\n",
            "Training MAE 14.946360248976342| Testing MAE 14.741146728427188\n",
            "Epochs 108 /300: \n",
            "Training Cost 188.22099975913656| Testing Cost 175.71603591766282\n",
            "Training MAE 14.931777232896174| Testing MAE 14.72743710776343\n",
            "Epochs 109 /300: \n",
            "Training Cost 187.92676925135177| Testing Cost 175.372731388838\n",
            "Training MAE 14.917296093541143| Testing MAE 14.713835190159907\n",
            "Epochs 110 /300: \n",
            "Training Cost 187.636954190385| Testing Cost 175.0345176195931\n",
            "Training MAE 14.902916029476971| Testing MAE 14.700339859120234\n",
            "Epochs 111 /300: \n",
            "Training Cost 187.35147917893272| Testing Cost 174.7013071998031\n",
            "Training MAE 14.888636249811972| Testing MAE 14.686950020693864\n",
            "Epochs 112 /300: \n",
            "Training Cost 187.07027033001975| Testing Cost 174.37301457116433\n",
            "Training MAE 14.874455973833975| Testing MAE 14.673664602624607\n",
            "Epochs 113 /300: \n",
            "Training Cost 186.79325522991962| Testing Cost 174.04955597669482\n",
            "Training MAE 14.860435480644144| Testing MAE 14.660482553537886\n",
            "Epochs 114 /300: \n",
            "Training Cost 186.52036290230282| Testing Cost 173.73084941204056\n",
            "Training MAE 14.846760044351146| Testing MAE 14.647402842164992\n",
            "Epochs 115 /300: \n",
            "Training Cost 186.25152377355295| Testing Cost 173.4168145785051\n",
            "Training MAE 14.833342744728563| Testing MAE 14.634424456602634\n",
            "Epochs 116 /300: \n",
            "Training Cost 185.98666963919538| Testing Cost 173.10737283772036\n",
            "Training MAE 14.820018505239396| Testing MAE 14.621546403606134\n",
            "Epochs 117 /300: \n",
            "Training Cost 185.72573363138616| Testing Cost 172.80244716788593\n",
            "Training MAE 14.806786620418718| Testing MAE 14.608767707914744\n",
            "Epochs 118 /300: \n",
            "Training Cost 185.46865018741298| Testing Cost 172.50196212150615\n",
            "Training MAE 14.79364639281482| Testing MAE 14.59608741160759\n",
            "Epochs 119 /300: \n",
            "Training Cost 185.21535501916233| Testing Cost 172.2058437845573\n",
            "Training MAE 14.780597132741612| Testing MAE 14.583504573488836\n",
            "Epochs 120 /300: \n",
            "Training Cost 184.96578508351033| Testing Cost 171.9140197370226\n",
            "Training MAE 14.767638158043463| Testing MAE 14.571018268500726\n",
            "Epochs 121 /300: \n",
            "Training Cost 184.71987855359652| Testing Cost 171.62641901473685\n",
            "Training MAE 14.75476879387181| Testing MAE 14.558627587163176\n",
            "Epochs 122 /300: \n",
            "Training Cost 184.47757479094432| Testing Cost 171.34297207248235\n",
            "Training MAE 14.741988372473044| Testing MAE 14.546331635038742\n",
            "Epochs 123 /300: \n",
            "Training Cost 184.2388143183913| Testing Cost 171.06361074828536\n",
            "Training MAE 14.729296232986936| Testing MAE 14.534129532221774\n",
            "Epochs 124 /300: \n",
            "Training Cost 184.0035387937971| Testing Cost 170.78826822886117\n",
            "Training MAE 14.716691721255254| Testing MAE 14.52202041285057\n",
            "Epochs 125 /300: \n",
            "Training Cost 183.77169098449704| Testing Cost 170.5168790161612\n",
            "Training MAE 14.704174189639918| Testing MAE 14.510003424641582\n",
            "Epochs 126 /300: \n",
            "Training Cost 183.5432147424722| Testing Cost 170.24937889497664\n",
            "Training MAE 14.691742996850232| Testing MAE 14.498077728444528\n",
            "Epochs 127 /300: \n",
            "Training Cost 183.31805498020802| Testing Cost 169.98570490155652\n",
            "Training MAE 14.679465196255121| Testing MAE 14.486242497817516\n",
            "Epochs 128 /300: \n",
            "Training Cost 183.09615764721494| Testing Cost 169.72579529319864\n",
            "Training MAE 14.667386176627765| Testing MAE 14.474496918621254\n",
            "Epochs 129 /300: \n",
            "Training Cost 182.87746970718698| Testing Cost 169.46958951877562\n",
            "Training MAE 14.655390002228662| Testing MAE 14.462840188631342\n",
            "Epochs 130 /300: \n",
            "Training Cost 182.66193911577344| Testing Cost 169.21702819015954\n",
            "Training MAE 14.643476070239133| Testing MAE 14.452383268996542\n",
            "Epochs 131 /300: \n",
            "Training Cost 182.44951479894252| Testing Cost 168.96805305451022\n",
            "Training MAE 14.631784420758791| Testing MAE 14.442464464349973\n",
            "Epochs 132 /300: \n",
            "Training Cost 182.24014663191537| Testing Cost 168.72260696739352\n",
            "Training MAE 14.620384574558049| Testing MAE 14.432621978680752\n",
            "Epochs 133 /300: \n",
            "Training Cost 182.033785418651| Testing Cost 168.48063386669952\n",
            "Training MAE 14.609062800356654| Testing MAE 14.422855130063535\n",
            "Epochs 134 /300: \n",
            "Training Cost 181.83038287186187| Testing Cost 168.24207874732951\n",
            "Training MAE 14.597818537243615| Testing MAE 14.413163245859625\n",
            "Epochs 135 /300: \n",
            "Training Cost 181.62989159354353| Testing Cost 168.00688763662342\n",
            "Training MAE 14.586651229065072| Testing MAE 14.403545662447293\n",
            "Epochs 136 /300: \n",
            "Training Cost 181.43226505599986| Testing Cost 167.7750075705009\n",
            "Training MAE 14.575560324325377| Testing MAE 14.394001724964049\n",
            "Epochs 137 /300: \n",
            "Training Cost 181.23745758334886| Testing Cost 167.54638657028974\n",
            "Training MAE 14.564545276093078| Testing MAE 14.384530787060289\n",
            "Epochs 138 /300: \n",
            "Training Cost 181.04542433349192| Testing Cost 167.32097362021727\n",
            "Training MAE 14.553605541911601| Testing MAE 14.37513221066383\n",
            "Epochs 139 /300: \n",
            "Training Cost 180.85612128053285| Testing Cost 167.0987186455401\n",
            "Training MAE 14.542740583714371| Testing MAE 14.365805365754769\n",
            "Epochs 140 /300: \n",
            "Training Cost 180.66950519763185| Testing Cost 166.87957249129104\n",
            "Training MAE 14.53194986774407| Testing MAE 14.356549630150194\n",
            "Epochs 141 /300: \n",
            "Training Cost 180.48553364028126| Testing Cost 166.66348690162047\n",
            "Training MAE 14.521232864475884| Testing MAE 14.347364389298273\n",
            "Epochs 142 /300: \n",
            "Training Cost 180.30416492998975| Testing Cost 166.45041449971194\n",
            "Training MAE 14.510589048544489| Testing MAE 14.338249036081317\n",
            "Epochs 143 /300: \n",
            "Training Cost 180.1253581383624| Testing Cost 166.240308768252\n",
            "Training MAE 14.500017898674555| Testing MAE 14.329202970627296\n",
            "Epochs 144 /300: \n",
            "Training Cost 179.9490730715656| Testing Cost 166.03312403043603\n",
            "Training MAE 14.489518897614596| Testing MAE 14.320225600129534\n",
            "Epochs 145 /300: \n",
            "Training Cost 179.77527025516451| Testing Cost 165.828815431491\n",
            "Training MAE 14.479091532073967| Testing MAE 14.311316338674064\n",
            "Epochs 146 /300: \n",
            "Training Cost 179.60391091932206| Testing Cost 165.62733892069838\n",
            "Training MAE 14.468735292662855| Testing MAE 14.30247460707438\n",
            "Epochs 147 /300: \n",
            "Training Cost 179.4349569843502| Testing Cost 165.42865123390033\n",
            "Training MAE 14.458449673835036| Testing MAE 14.293699832713159\n",
            "Epochs 148 /300: \n",
            "Training Cost 179.26837104660183| Testing Cost 165.23270987647385\n",
            "Training MAE 14.448234173833358| Testing MAE 14.284991449390704\n",
            "Epochs 149 /300: \n",
            "Training Cost 179.1041163646943| Testing Cost 165.03947310675622\n",
            "Training MAE 14.438088294637653| Testing MAE 14.276348897179666\n",
            "Epochs 150 /300: \n",
            "Training Cost 178.94215684605564| Testing Cost 164.84889991990832\n",
            "Training MAE 14.428011541915033| Testing MAE 14.267771622285865\n",
            "Epochs 151 /300: \n",
            "Training Cost 178.78245703378394| Testing Cost 164.6609500322015\n",
            "Training MAE 14.41800342497243| Testing MAE 14.259259076914852\n",
            "Epochs 152 /300: \n",
            "Training Cost 178.62498209381124| Testing Cost 164.4755838657138\n",
            "Training MAE 14.408303790783208| Testing MAE 14.250810719143946\n",
            "Epochs 153 /300: \n",
            "Training Cost 178.46969780236358| Testing Cost 164.292762533423\n",
            "Training MAE 14.398756384871568| Testing MAE 14.242426012799495\n",
            "Epochs 154 /300: \n",
            "Training Cost 178.31657053370995| Testing Cost 164.11244782468432\n",
            "Training MAE 14.389343228950473| Testing MAE 14.234104427339112\n",
            "Epochs 155 /300: \n",
            "Training Cost 178.16556724819108| Testing Cost 163.93460219107953\n",
            "Training MAE 14.379993495849002| Testing MAE 14.225845437738615\n",
            "Epochs 156 /300: \n",
            "Training Cost 178.01665548052168| Testing Cost 163.7591887326276\n",
            "Training MAE 14.370706745330146| Testing MAE 14.217648524383495\n",
            "Epochs 157 /300: \n",
            "Training Cost 177.86980332835824| Testing Cost 163.58617118434407\n",
            "Training MAE 14.361482540095647| Testing MAE 14.209513172964652\n",
            "Epochs 158 /300: \n",
            "Training Cost 177.72497944112575| Testing Cost 163.41551390313987\n",
            "Training MAE 14.352320445761016| Testing MAE 14.201438874378223\n",
            "Epochs 159 /300: \n",
            "Training Cost 177.58215300909623| Testing Cost 163.24718185504778\n",
            "Training MAE 14.343220030831576| Testing MAE 14.193425124629274\n",
            "Epochs 160 /300: \n",
            "Training Cost 177.44129375271325| Testing Cost 163.08114060276816\n",
            "Training MAE 14.334180866679523| Testing MAE 14.185471424739214\n",
            "Epochs 161 /300: \n",
            "Training Cost 177.30237191215494| Testing Cost 162.91735629352334\n",
            "Training MAE 14.325202527521833| Testing MAE 14.177577280656704\n",
            "Epochs 162 /300: \n",
            "Training Cost 177.16535823713056| Testing Cost 162.75579564721107\n",
            "Training MAE 14.31628459039905| Testing MAE 14.169742203171909\n",
            "Epochs 163 /300: \n",
            "Training Cost 177.03022397690387| Testing Cost 162.5964259448498\n",
            "Training MAE 14.307426635154826| Testing MAE 14.161965707833964\n",
            "Epochs 164 /300: \n",
            "Training Cost 176.89694087053795| Testing Cost 162.43921501730543\n",
            "Training MAE 14.298628244416221| Testing MAE 14.15424731487146\n",
            "Epochs 165 /300: \n",
            "Training Cost 176.76548113735572| Testing Cost 162.28413123429212\n",
            "Training MAE 14.289889003574647| Testing MAE 14.1465865491158\n",
            "Epochs 166 /300: \n",
            "Training Cost 176.63581746761105| Testing Cost 162.13114349363897\n",
            "Training MAE 14.281208500767475| Testing MAE 14.138982939927322\n",
            "Epochs 167 /300: \n",
            "Training Cost 176.50792301336458| Testing Cost 161.980221210815\n",
            "Training MAE 14.272586326860186| Testing MAE 14.131436021124042\n",
            "Epochs 168 /300: \n",
            "Training Cost 176.38177137955972| Testing Cost 161.8313343087049\n",
            "Training MAE 14.264022075429097| Testing MAE 14.12394533091285\n",
            "Epochs 169 /300: \n",
            "Training Cost 176.25733661529404| Testing Cost 161.68445320762805\n",
            "Training MAE 14.255515342744571| Testing MAE 14.116510411823146\n",
            "Epochs 170 /300: \n",
            "Training Cost 176.13459320528062| Testing Cost 161.53954881559434\n",
            "Training MAE 14.247065727754672| Testing MAE 14.109130810642622\n",
            "Epochs 171 /300: \n",
            "Training Cost 176.01351606149498| Testing Cost 161.39659251879016\n",
            "Training MAE 14.238672832069287| Testing MAE 14.101806078355322\n",
            "Epochs 172 /300: \n",
            "Training Cost 175.89408051500308| Testing Cost 161.25555617228713\n",
            "Training MAE 14.230336259944586| Testing MAE 14.094535770081626\n",
            "Epochs 173 /300: \n",
            "Training Cost 175.7762623079668| Testing Cost 161.11641209096845\n",
            "Training MAE 14.222055618267909| Testing MAE 14.08731944502025\n",
            "Epochs 174 /300: \n",
            "Training Cost 175.66003758582042| Testing Cost 160.97913304066623\n",
            "Training MAE 14.213830516542911| Testing MAE 14.080156666392085\n",
            "Epochs 175 /300: \n",
            "Training Cost 175.54538288961712| Testing Cost 160.84369222950417\n",
            "Training MAE 14.205660566875082| Testing MAE 14.073047001385786\n",
            "Epochs 176 /300: \n",
            "Training Cost 175.43227514853774| Testing Cost 160.71006329943935\n",
            "Training MAE 14.197545383957479| Testing MAE 14.06599002110504\n",
            "Epochs 177 /300: \n",
            "Training Cost 175.320691672562| Testing Cost 160.57822031799842\n",
            "Training MAE 14.18948458505679| Testing MAE 14.058985300517445\n",
            "Epochs 178 /300: \n",
            "Training Cost 175.2106101452943| Testing Cost 160.44813777020246\n",
            "Training MAE 14.181542602938862| Testing MAE 14.052032418404897\n",
            "Epochs 179 /300: \n",
            "Training Cost 175.1020086169436| Testing Cost 160.31979055067578\n",
            "Training MAE 14.173741484990718| Testing MAE 14.045130957315456\n",
            "Epochs 180 /300: \n",
            "Training Cost 174.9948654974518| Testing Cost 160.19315395593233\n",
            "Training MAE 14.165992569316709| Testing MAE 14.038280503516516\n",
            "Epochs 181 /300: \n",
            "Training Cost 174.88915954976784| Testing Cost 160.0682036768375\n",
            "Training MAE 14.158363970174449| Testing MAE 14.031480646949408\n",
            "Epochs 182 /300: \n",
            "Training Cost 174.78486988326455| Testing Cost 159.94491579123763\n",
            "Training MAE 14.150861613904029| Testing MAE 14.024730981185158\n",
            "Epochs 183 /300: \n",
            "Training Cost 174.68197594729327| Testing Cost 159.82326675675503\n",
            "Training MAE 14.14340940119403| Testing MAE 14.018031103381462\n",
            "Epochs 184 /300: \n",
            "Training Cost 174.5804575248753| Testing Cost 159.703233403743\n",
            "Training MAE 14.136006982075513| Testing MAE 14.011380614240842\n",
            "Epochs 185 /300: \n",
            "Training Cost 174.48029472652505| Testing Cost 159.58479292839712\n",
            "Training MAE 14.128654008916236| Testing MAE 14.004779117969813\n",
            "Epochs 186 /300: \n",
            "Training Cost 174.38146798420252| Testing Cost 159.46792288601793\n",
            "Training MAE 14.121395794842183| Testing MAE 13.998226222239152\n",
            "Epochs 187 /300: \n",
            "Training Cost 174.28395804539295| Testing Cost 159.35260118442235\n",
            "Training MAE 14.114322577137548| Testing MAE 13.991721538145113\n",
            "Epochs 188 /300: \n",
            "Training Cost 174.1877459673087| Testing Cost 159.2388060774984\n",
            "Training MAE 14.10729669027662| Testing MAE 13.985264680171584\n",
            "Epochs 189 /300: \n",
            "Training Cost 174.0928131112128| Testing Cost 159.12651615890115\n",
            "Training MAE 14.100317802577003| Testing MAE 13.978855266153174\n",
            "Epochs 190 /300: \n",
            "Training Cost 173.99914113685983| Testing Cost 159.0157103558845\n",
            "Training MAE 14.093385584585599| Testing MAE 13.97249291723909\n",
            "Epochs 191 /300: \n",
            "Training Cost 173.90671199705187| Testing Cost 158.90636792326674\n",
            "Training MAE 14.08649970906868| Testing MAE 13.966177257857899\n",
            "Epochs 192 /300: \n",
            "Training Cost 173.81550793230682| Testing Cost 158.79846843752603\n",
            "Training MAE 14.079659851001878| Testing MAE 13.959907915683027\n",
            "Epochs 193 /300: \n",
            "Training Cost 173.7255114656372| Testing Cost 158.69199179102182\n",
            "Training MAE 14.072899026882192| Testing MAE 13.953684521599017\n",
            "Epochs 194 /300: \n",
            "Training Cost 173.63670539743555| Testing Cost 158.58691818634014\n",
            "Training MAE 14.066236726224263| Testing MAE 13.947506709668493\n",
            "Epochs 195 /300: \n",
            "Training Cost 173.54907280046535| Testing Cost 158.4832281307588\n",
            "Training MAE 14.059619481683406| Testing MAE 13.941374117099798\n",
            "Epochs 196 /300: \n",
            "Training Cost 173.46259701495416| Testing Cost 158.38090243082937\n",
            "Training MAE 14.053046970487198| Testing MAE 13.935286384215294\n",
            "Epochs 197 /300: \n",
            "Training Cost 173.37726164378722| Testing Cost 158.27992218707433\n",
            "Training MAE 14.046518872145102| Testing MAE 13.929243154420275\n",
            "Epochs 198 /300: \n",
            "Training Cost 173.2930505477986| Testing Cost 158.18026878879462\n",
            "Training MAE 14.040034868436551| Testing MAE 13.923244074172453\n",
            "Epochs 199 /300: \n",
            "Training Cost 173.20994784115888| Testing Cost 158.08192390898623\n",
            "Training MAE 14.033594643399008| Testing MAE 13.917288792952059\n",
            "Epochs 200 /300: \n",
            "Training Cost 173.12793788685534| Testing Cost 157.9848694993628\n",
            "Training MAE 14.027197883315985| Testing MAE 13.911376963232435\n",
            "Epochs 201 /300: \n",
            "Training Cost 173.04700529226469| Testing Cost 157.8890877854811\n",
            "Training MAE 14.020897447215484| Testing MAE 13.905508240451185\n",
            "Epochs 202 /300: \n",
            "Training Cost 172.96713490481432| Testing Cost 157.7945612619679\n",
            "Training MAE 14.014682428895615| Testing MAE 13.899682282981807\n",
            "Epochs 203 /300: \n",
            "Training Cost 172.888311807732| Testing Cost 157.70127268784444\n",
            "Training MAE 14.008509158236043| Testing MAE 13.893898752105786\n",
            "Epochs 204 /300: \n",
            "Training Cost 172.81052131587967| Testing Cost 157.60920508194718\n",
            "Training MAE 14.002377337864946| Testing MAE 13.88816929412316\n",
            "Epochs 205 /300: \n",
            "Training Cost 172.73374897167233| Testing Cost 157.51834171844243\n",
            "Training MAE 13.996286672518572| Testing MAE 13.88297411083337\n",
            "Epochs 206 /300: \n",
            "Training Cost 172.65798054107728| Testing Cost 157.42866612243157\n",
            "Training MAE 13.990236869030001| Testing MAE 13.87781700857366\n",
            "Epochs 207 /300: \n",
            "Training Cost 172.58320200969436| Testing Cost 157.3401620656462\n",
            "Training MAE 13.984227636317886| Testing MAE 13.872697684088516\n",
            "Epochs 208 /300: \n",
            "Training Cost 172.50939957891322| Testing Cost 157.2528135622294\n",
            "Training MAE 13.978258685375108| Testing MAE 13.867615836706314\n",
            "Epochs 209 /300: \n",
            "Training Cost 172.43655966214817| Testing Cost 157.16660486460296\n",
            "Training MAE 13.972329729257533| Testing MAE 13.862571168315354\n",
            "Epochs 210 /300: \n",
            "Training Cost 172.36466888114666| Testing Cost 157.0815204594166\n",
            "Training MAE 13.966440483072631| Testing MAE 13.857563383340244\n",
            "Epochs 211 /300: \n",
            "Training Cost 172.2937140623715| Testing Cost 156.99754506357846\n",
            "Training MAE 13.960590663968123| Testing MAE 13.852592188718708\n",
            "Epochs 212 /300: \n",
            "Training Cost 172.22368223345399| Testing Cost 156.914663620365\n",
            "Training MAE 13.954779991120628| Testing MAE 13.847657293878635\n",
            "Epochs 213 /300: \n",
            "Training Cost 172.15456061971744| Testing Cost 156.83286129560724\n",
            "Training MAE 13.949008185724258| Testing MAE 13.842758410715543\n",
            "Epochs 214 /300: \n",
            "Training Cost 172.08633664076896| Testing Cost 156.7521234739533\n",
            "Training MAE 13.943274970979209| Testing MAE 13.837895253570265\n",
            "Epochs 215 /300: \n",
            "Training Cost 172.01899790715754| Testing Cost 156.67243575520385\n",
            "Training MAE 13.937580072080323| Testing MAE 13.833067539207006\n",
            "Epochs 216 /300: \n",
            "Training Cost 171.95253221709805| Testing Cost 156.59378395071974\n",
            "Training MAE 13.931923216205648| Testing MAE 13.828274986791675\n",
            "Epochs 217 /300: \n",
            "Training Cost 171.88692755325928| Testing Cost 156.51615407989996\n",
            "Training MAE 13.926304132504983| Testing MAE 13.823517317870438\n",
            "Epochs 218 /300: \n",
            "Training Cost 171.8221720796139| Testing Cost 156.43953236672823\n",
            "Training MAE 13.920722552088385| Testing MAE 13.818794256348633\n",
            "Epochs 219 /300: \n",
            "Training Cost 171.7582541383504| Testing Cost 156.36390523638593\n",
            "Training MAE 13.91517820801467| Testing MAE 13.814105528469854\n",
            "Epochs 220 /300: \n",
            "Training Cost 171.69516224684452| Testing Cost 156.28925931193206\n",
            "Training MAE 13.909724222199397| Testing MAE 13.809450862795368\n",
            "Epochs 221 /300: \n",
            "Training Cost 171.63288509468896| Testing Cost 156.2155814110456\n",
            "Training MAE 13.90447387526766| Testing MAE 13.804829990183682\n",
            "Epochs 222 /300: \n",
            "Training Cost 171.5714115407811| Testing Cost 156.14285854283148\n",
            "Training MAE 13.899258514551821| Testing MAE 13.800242643770458\n",
            "Epochs 223 /300: \n",
            "Training Cost 171.51073061046648| Testing Cost 156.07107790468726\n",
            "Training MAE 13.894107554972596| Testing MAE 13.795688558948534\n",
            "Epochs 224 /300: \n",
            "Training Cost 171.4508314927366| Testing Cost 156.00022687922976\n",
            "Training MAE 13.889074691513384| Testing MAE 13.791167473348265\n",
            "Epochs 225 /300: \n",
            "Training Cost 171.39170353748162| Testing Cost 155.93029303128014\n",
            "Training MAE 13.884170046647695| Testing MAE 13.786679126818013\n",
            "Epochs 226 /300: \n",
            "Training Cost 171.33333625279448| Testing Cost 155.86126410490587\n",
            "Training MAE 13.879298255757112| Testing MAE 13.782223261404887\n",
            "Epochs 227 /300: \n",
            "Training Cost 171.27571930232682| Testing Cost 155.793128020519\n",
            "Training MAE 13.874459082502549| Testing MAE 13.777799621335646\n",
            "Epochs 228 /300: \n",
            "Training Cost 171.2188425026956| Testing Cost 155.7258728720285\n",
            "Training MAE 13.869652292300326| Testing MAE 13.773407952997836\n",
            "Epochs 229 /300: \n",
            "Training Cost 171.16269582093838| Testing Cost 155.65948692404655\n",
            "Training MAE 13.864877652311064| Testing MAE 13.76904800492109\n",
            "Epochs 230 /300: \n",
            "Training Cost 171.1072693720172| Testing Cost 155.59395860914665\n",
            "Training MAE 13.860134931428536| Testing MAE 13.764719527758619\n",
            "Epochs 231 /300: \n",
            "Training Cost 171.05255341636942| Testing Cost 155.52927652517312\n",
            "Training MAE 13.855423900268589| Testing MAE 13.760422274268903\n",
            "Epochs 232 /300: \n",
            "Training Cost 170.99853835750463| Testing Cost 155.46542943260022\n",
            "Training MAE 13.850744331157985| Testing MAE 13.756155999297526\n",
            "Epochs 233 /300: \n",
            "Training Cost 170.9452147396474| Testing Cost 155.40240625194065\n",
            "Training MAE 13.846095998123356| Testing MAE 13.751920459759214\n",
            "Epochs 234 /300: \n",
            "Training Cost 170.89257324542348| Testing Cost 155.34019606120128\n",
            "Training MAE 13.84147867688008| Testing MAE 13.747715414620025\n",
            "Epochs 235 /300: \n",
            "Training Cost 170.84060469358946| Testing Cost 155.27878809338623\n",
            "Training MAE 13.836892144821192| Testing MAE 13.743540624879708\n",
            "Epochs 236 /300: \n",
            "Training Cost 170.78930003680554| Testing Cost 155.21817173404534\n",
            "Training MAE 13.83233618100635| Testing MAE 13.739395853554223\n",
            "Epochs 237 /300: \n",
            "Training Cost 170.7386503594488| Testing Cost 155.15833651886743\n",
            "Training MAE 13.827810566150756| Testing MAE 13.735280865658408\n",
            "Epochs 238 /300: \n",
            "Training Cost 170.68864687546787| Testing Cost 155.0992721313177\n",
            "Training MAE 13.823315082614117| Testing MAE 13.731195428188846\n",
            "Epochs 239 /300: \n",
            "Training Cost 170.63928092627697| Testing Cost 155.04096840031784\n",
            "Training MAE 13.818849514389642| Testing MAE 13.727139310106791\n",
            "Epochs 240 /300: \n",
            "Training Cost 170.59054397868908| Testing Cost 154.98341529796795\n",
            "Training MAE 13.814413647093003| Testing MAE 13.723112282321363\n",
            "Epochs 241 /300: \n",
            "Training Cost 170.5424276228872| Testing Cost 154.9266029373099\n",
            "Training MAE 13.810007267951393| Testing MAE 13.719114117672788\n",
            "Epochs 242 /300: \n",
            "Training Cost 170.4949235704331| Testing Cost 154.8705215701306\n",
            "Training MAE 13.805630165792532| Testing MAE 13.715144590915829\n",
            "Epochs 243 /300: \n",
            "Training Cost 170.44802365231246| Testing Cost 154.8151615848049\n",
            "Training MAE 13.801282131033728| Testing MAE 13.711203478703359\n",
            "Epochs 244 /300: \n",
            "Training Cost 170.4017198170158| Testing Cost 154.76051350417694\n",
            "Training MAE 13.796962955670967| Testing MAE 13.707290559570056\n",
            "Epochs 245 /300: \n",
            "Training Cost 170.35600412865475| Testing Cost 154.70656798347912\n",
            "Training MAE 13.792672433268015| Testing MAE 13.703405613916251\n",
            "Epochs 246 /300: \n",
            "Training Cost 170.31086876511256| Testing Cost 154.65331580828843\n",
            "Training MAE 13.788410358945546| Testing MAE 13.699548423991901\n",
            "Epochs 247 /300: \n",
            "Training Cost 170.26630601622804| Testing Cost 154.60074789251817\n",
            "Training MAE 13.784176529370312| Testing MAE 13.695718773880682\n",
            "Epochs 248 /300: \n",
            "Training Cost 170.2223082820128| Testing Cost 154.54885527644643\n",
            "Training MAE 13.779970742744306| Testing MAE 13.691916449484257\n",
            "Epochs 249 /300: \n",
            "Training Cost 170.17886807090056| Testing Cost 154.49762912477766\n",
            "Training MAE 13.775792798794011| Testing MAE 13.688141238506633\n",
            "Epochs 250 /300: \n",
            "Training Cost 170.1359779980281| Testing Cost 154.44706072473966\n",
            "Training MAE 13.771642498759636| Testing MAE 13.684392930438639\n",
            "Epochs 251 /300: \n",
            "Training Cost 170.0936307835473| Testing Cost 154.3971414842132\n",
            "Training MAE 13.76751964538438| Testing MAE 13.680671316542574\n",
            "Epochs 252 /300: \n",
            "Training Cost 170.05181925096755| Testing Cost 154.347862929894\n",
            "Training MAE 13.763424042903768| Testing MAE 13.676976189836951\n",
            "Epochs 253 /300: \n",
            "Training Cost 170.01053632552743| Testing Cost 154.2992167054877\n",
            "Training MAE 13.759355497034994| Testing MAE 13.673307345081355\n",
            "Epochs 254 /300: \n",
            "Training Cost 169.96977503259626| Testing Cost 154.2511945699347\n",
            "Training MAE 13.75531381496629| Testing MAE 13.66966457876145\n",
            "Epochs 255 /300: \n",
            "Training Cost 169.92952849610376| Testing Cost 154.2037883956671\n",
            "Training MAE 13.751298805346373| Testing MAE 13.666047689074082\n",
            "Epochs 256 /300: \n",
            "Training Cost 169.88978993699732| Testing Cost 154.1569901668947\n",
            "Training MAE 13.747310278273867| Testing MAE 13.662456475912515\n",
            "Epochs 257 /300: \n",
            "Training Cost 169.85055267172757| Testing Cost 154.11079197792077\n",
            "Training MAE 13.743348045286837| Testing MAE 13.658890740851794\n",
            "Epochs 258 /300: \n",
            "Training Cost 169.81181011075995| Testing Cost 154.0651860314872\n",
            "Training MAE 13.7394119193523| Testing MAE 13.655350287134196\n",
            "Epochs 259 /300: \n",
            "Training Cost 169.7735557571131| Testing Cost 154.0201646371468\n",
            "Training MAE 13.735501714855802| Testing MAE 13.651834919654819\n",
            "Epochs 260 /300: \n",
            "Training Cost 169.73578320492263| Testing Cost 153.97572020966467\n",
            "Training MAE 13.731617247591059| Testing MAE 13.648344444947293\n",
            "Epochs 261 /300: \n",
            "Training Cost 169.69848613803055| Testing Cost 153.93184526744554\n",
            "Training MAE 13.727796447576129| Testing MAE 13.644878671169584\n",
            "Epochs 262 /300: \n",
            "Training Cost 169.6616583285992| Testing Cost 153.8885324309887\n",
            "Training MAE 13.724040936418852| Testing MAE 13.64143740808992\n",
            "Epochs 263 /300: \n",
            "Training Cost 169.6252936357496| Testing Cost 153.84577442136836\n",
            "Training MAE 13.72031026908274| Testing MAE 13.638020467072828\n",
            "Epochs 264 /300: \n",
            "Training Cost 169.5893860042233| Testing Cost 153.80356405874014\n",
            "Training MAE 13.71660426765004| Testing MAE 13.634627661065293\n",
            "Epochs 265 /300: \n",
            "Training Cost 169.55392946306787| Testing Cost 153.76189426087217\n",
            "Training MAE 13.712922755571661| Testing MAE 13.63125880458302\n",
            "Epochs 266 /300: \n",
            "Training Cost 169.51891812434528| Testing Cost 153.72075804170163\n",
            "Training MAE 13.709265557656828| Testing MAE 13.627913713696781\n",
            "Epochs 267 /300: \n",
            "Training Cost 169.48434618186207| Testing Cost 153.68014850991395\n",
            "Training MAE 13.705632500062721| Testing MAE 13.62459220601892\n",
            "Epochs 268 /300: \n",
            "Training Cost 169.45020790992257| Testing Cost 153.64005886754754\n",
            "Training MAE 13.702023410284223| Testing MAE 13.62129410068994\n",
            "Epochs 269 /300: \n",
            "Training Cost 169.41649766210222| Testing Cost 153.60048240862014\n",
            "Training MAE 13.698438117143697| Testing MAE 13.618019218365175\n",
            "Epochs 270 /300: \n",
            "Training Cost 169.38320987004334| Testing Cost 153.56141251777893\n",
            "Training MAE 13.694876450780788| Testing MAE 13.614767381201606\n",
            "Epochs 271 /300: \n",
            "Training Cost 169.350339042271| Testing Cost 153.52284266897252\n",
            "Training MAE 13.691338242642356| Testing MAE 13.611538412844762\n",
            "Epochs 272 /300: \n",
            "Training Cost 169.31787976302877| Testing Cost 153.48476642414488\n",
            "Training MAE 13.68782332547236| Testing MAE 13.608332138415749\n",
            "Epochs 273 /300: \n",
            "Training Cost 169.28582669113538| Testing Cost 153.44717743195088\n",
            "Training MAE 13.68433910674603| Testing MAE 13.605148384498326\n",
            "Epochs 274 /300: \n",
            "Training Cost 169.25417455885975| Testing Cost 153.41006942649287\n",
            "Training MAE 13.681259305830318| Testing MAE 13.601986979126178\n",
            "Epochs 275 /300: \n",
            "Training Cost 169.22291817081611| Testing Cost 153.3734362260779\n",
            "Training MAE 13.67819979163671| Testing MAE 13.598847751770197\n",
            "Epochs 276 /300: \n",
            "Training Cost 169.19205240287727| Testing Cost 153.33727173199523\n",
            "Training MAE 13.675160419308872| Testing MAE 13.595730533325916\n",
            "Epochs 277 /300: \n",
            "Training Cost 169.16157220110654| Testing Cost 153.30156992731364\n",
            "Training MAE 13.67214104510572| Testing MAE 13.592635156101059\n",
            "Epochs 278 /300: \n",
            "Training Cost 169.13147258070774| Testing Cost 153.26632487569867\n",
            "Training MAE 13.669141526392824| Testing MAE 13.589561453803132\n",
            "Epochs 279 /300: \n",
            "Training Cost 169.10174862499238| Testing Cost 153.2315307202483\n",
            "Training MAE 13.666161721633877| Testing MAE 13.586509261527185\n",
            "Epochs 280 /300: \n",
            "Training Cost 169.07239548436522| Testing Cost 153.19718168234823\n",
            "Training MAE 13.663201490382262| Testing MAE 13.583478415743631\n",
            "Epochs 281 /300: \n",
            "Training Cost 169.04340837532584| Testing Cost 153.16327206054507\n",
            "Training MAE 13.660260693272573| Testing MAE 13.58046875428616\n",
            "Epochs 282 /300: \n",
            "Training Cost 169.01478257948733| Testing Cost 153.1297962294379\n",
            "Training MAE 13.657339192012248| Testing MAE 13.577480116339784\n",
            "Epochs 283 /300: \n",
            "Training Cost 168.98651344261165| Testing Cost 153.0967486385874\n",
            "Training MAE 13.654436849373244| Testing MAE 13.574512342428957\n",
            "Epochs 284 /300: \n",
            "Training Cost 168.95859637366044| Testing Cost 153.0641238114427\n",
            "Training MAE 13.65155352918372| Testing MAE 13.571565274405785\n",
            "Epochs 285 /300: \n",
            "Training Cost 168.931026843862| Testing Cost 153.03191634428507\n",
            "Training MAE 13.648689096319826| Testing MAE 13.568638755438373\n",
            "Epochs 286 /300: \n",
            "Training Cost 168.90380038579391| Testing Cost 153.00012090518885\n",
            "Training MAE 13.64584341669746| Testing MAE 13.565732629999216\n",
            "Epochs 287 /300: \n",
            "Training Cost 168.87691259248004| Testing Cost 152.96873223299824\n",
            "Training MAE 13.643016357264175| Testing MAE 13.562846743853738\n",
            "Epochs 288 /300: \n",
            "Training Cost 168.85035911650348| Testing Cost 152.93774513632084\n",
            "Training MAE 13.640207785991045| Testing MAE 13.559980944048858\n",
            "Epochs 289 /300: \n",
            "Training Cost 168.82413566913334| Testing Cost 152.90715449253702\n",
            "Training MAE 13.637417571864624| Testing MAE 13.557135078901739\n",
            "Epochs 290 /300: \n",
            "Training Cost 168.79823801946608| Testing Cost 152.87695524682448\n",
            "Training MAE 13.634645584878964| Testing MAE 13.554308997988553\n",
            "Epochs 291 /300: \n",
            "Training Cost 168.7726619935812| Testing Cost 152.84714241119903\n",
            "Training MAE 13.63189169602763| Testing MAE 13.55150255213339\n",
            "Epochs 292 /300: \n",
            "Training Cost 168.74740347371022| Testing Cost 152.81771106356922\n",
            "Training MAE 13.629155777295828| Testing MAE 13.548715593397228\n",
            "Epochs 293 /300: \n",
            "Training Cost 168.7224583974195| Testing Cost 152.78865634680702\n",
            "Training MAE 13.626437701652527| Testing MAE 13.545947975067017\n",
            "Epochs 294 /300: \n",
            "Training Cost 168.69782275680657| Testing Cost 152.7599734678321\n",
            "Training MAE 13.6237373430427| Testing MAE 13.54319955164485\n",
            "Epochs 295 /300: \n",
            "Training Cost 168.67349259770904| Testing Cost 152.73165769671095\n",
            "Training MAE 13.621054576379521| Testing MAE 13.54047017883722\n",
            "Epochs 296 /300: \n",
            "Training Cost 168.64946401892672| Testing Cost 152.70370436576945\n",
            "Training MAE 13.618389277536696| Testing MAE 13.537759713544363\n",
            "Epochs 297 /300: \n",
            "Training Cost 168.62573317145592| Testing Cost 152.6761088687199\n",
            "Training MAE 13.615741323340812| Testing MAE 13.535068013849703\n",
            "Epochs 298 /300: \n",
            "Training Cost 168.60229625773655| Testing Cost 152.64886665980086\n",
            "Training MAE 13.613110591563723| Testing MAE 13.532394939009393\n",
            "Epochs 299 /300: \n",
            "Training Cost 168.57914953091108| Testing Cost 152.62197325293104\n",
            "Training MAE 13.610496960915002| Testing MAE 13.529740349441925\n",
            "Epochs 300 /300: \n",
            "Training Cost 168.55628929409534| Testing Cost 152.59542422087551\n",
            "Training MAE 13.607900311034465| Testing MAE 13.52710410671785\n"
          ]
        },
        {
          "output_type": "display_data",
          "data": {
            "image/png": "[encoded data removed]",
            "text/plain": [
              "<Figure size 720x432 with 1 Axes>"
            ]
          },
          "metadata": {}
        },
        {
          "output_type": "display_data",
          "data": {
            "image/png": "[encoded data removed]",
            "text/plain": [
              "<Figure size 720x432 with 1 Axes>"
            ]
          },
          "metadata": {}
        }
      ]
    },
    {
      "cell_type": "code",
      "metadata": {
        "id": "ic0N3itxRH-y"
      },
      "source": [
        "def sklearn_linear_regression(x_train, y_train, x_test, y_test):\n",
        "    \"\"\"This function is for creating the model using the bult-in function in sklearn.\n",
        "    \n",
        "    Args:\n",
        "        Training and testing data\n",
        "    Returns:\n",
        "        Mean absolute Error for training and testing\n",
        "    \"\"\"\n",
        "    from sklearn.linear_model import LinearRegression\n",
        "    from sklearn.metrics import mean_absolute_error,r2_score\n",
        "    model=LinearRegression()\n",
        "    model.fit(x_train.T, y_train.T)\n",
        "    predictions_train=model.predict(x_train.T)\n",
        "    predictions_test=model.predict(x_test.T)\n",
        "\n",
        "    print('Mean absolute error: %.2f'\n",
        "      % mean_absolute_error(y_test.T, predictions_test))\n",
        "    print('r2 score: %.2f'\n",
        "      % r2_score(y_test.T, predictions_test))"
      ],
      "execution_count": 77,
      "outputs": []
    },
    {
      "cell_type": "code",
      "metadata": {
        "colab": {
          "base_uri": "https://localhost:8080/"
        },
        "id": "2vZcWndzRQF3",
        "outputId": "9f686d9c-1303-49a5-e6d5-f53c6c7dfe03"
      },
      "source": [
        "sklearn_linear_regression(X_train, y_train, X_test, y_test)"
      ],
      "execution_count": 78,
      "outputs": [
        {
          "output_type": "stream",
          "name": "stdout",
          "text": [
            "Mean absolute error: 13.14\n",
            "r2 score: 0.56\n"
          ]
        }
      ]
    }
  ]
}