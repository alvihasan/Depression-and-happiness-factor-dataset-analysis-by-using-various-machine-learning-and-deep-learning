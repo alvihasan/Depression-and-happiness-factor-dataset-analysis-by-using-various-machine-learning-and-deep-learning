{
  "nbformat": 4,
  "nbformat_minor": 5,
  "metadata": {
    "kernelspec": {
      "display_name": "Python 3",
      "language": "python",
      "name": "python3"
    },
    "language_info": {
      "codemirror_mode": {
        "name": "ipython",
        "version": 3
      },
      "file_extension": ".py",
      "mimetype": "text/x-python",
      "name": "python",
      "nbconvert_exporter": "python",
      "pygments_lexer": "ipython3",
      "version": "3.8.3"
    },
    "colab": {
      "name": "k_means_lab03.ipynb",
      "provenance": [],
      "collapsed_sections": []
    }
  },
  "cells": [
    {
      "cell_type": "code",
      "metadata": {
        "id": "ZvL69uTK1ba6"
      },
      "source": [
        "import numpy as np\n",
        "import pandas as pd\n",
        "import matplotlib.pyplot as plt\n",
        "import seaborn as sns\n",
        "%matplotlib inline\n",
        "sns.set(rc={\n",
        "    'figure.figsize':(20, 10)\n",
        "})\n",
        "\n",
        "\n",
        "import warnings\n",
        "\n",
        "warnings.filterwarnings('ignore')"
      ],
      "id": "ZvL69uTK1ba6",
      "execution_count": null,
      "outputs": []
    },
    {
      "cell_type": "code",
      "metadata": {
        "colab": {
          "base_uri": "https://localhost:8080/"
        },
        "id": "4Jqx3xsf1ba7",
        "outputId": "7e6a89d3-6e38-4c74-80be-d31400ff182f"
      },
      "source": [
        "df=pd.read_csv('depression_dataset.csv')\n",
        "df.shape"
      ],
      "id": "4Jqx3xsf1ba7",
      "execution_count": null,
      "outputs": [
        {
          "output_type": "execute_result",
          "data": {
            "text/plain": [
              "(1007, 21)"
            ]
          },
          "metadata": {},
          "execution_count": 5
        }
      ]
    },
    {
      "cell_type": "code",
      "metadata": {
        "colab": {
          "base_uri": "https://localhost:8080/",
          "height": 458
        },
        "id": "yf9Gd1iw43Dd",
        "outputId": "70e96e06-54cf-449c-a4c9-1802e91f2bb3"
      },
      "source": [
        "\n",
        "df.drop(['Timestamp'], axis=1, inplace=True)\n",
        "# depression.head()\n",
        "df.head()"
      ],
      "id": "yf9Gd1iw43Dd",
      "execution_count": null,
      "outputs": [
        {
          "output_type": "execute_result",
          "data": {
            "text/html": [
              "<div>\n",
              "<style scoped>\n",
              "    .dataframe tbody tr th:only-of-type {\n",
              "        vertical-align: middle;\n",
              "    }\n",
              "\n",
              "    .dataframe tbody tr th {\n",
              "        vertical-align: top;\n",
              "    }\n",
              "\n",
              "    .dataframe thead th {\n",
              "        text-align: right;\n",
              "    }\n",
              "</style>\n",
              "<table border=\"1\" class=\"dataframe\">\n",
              "  <thead>\n",
              "    <tr style=\"text-align: right;\">\n",
              "      <th></th>\n",
              "      <th>Which year are you in?</th>\n",
              "      <th>How are you feeling right now?</th>\n",
              "      <th>On a scale of 1-100, how would you express this feeling?</th>\n",
              "      <th>Gender</th>\n",
              "      <th>Age</th>\n",
              "      <th>Your location ?</th>\n",
              "      <th>Relationship status</th>\n",
              "      <th>Are you happy with your financial state?</th>\n",
              "      <th>How much have you succeeded to cope up with the environment of your educational institution?</th>\n",
              "      <th>Understanding with your family members?</th>\n",
              "      <th>Are you feeling pressure in your study or work right now?</th>\n",
              "      <th>Are you satisfied with your academic result?</th>\n",
              "      <th>Are you happy with your living place?</th>\n",
              "      <th>Who supports you when you are not succeeding in your academic life?</th>\n",
              "      <th>Have you used any social media within the last 6 hours?</th>\n",
              "      <th>Do you have inferiority complex?</th>\n",
              "      <th>Are you satisfied with your meal today?</th>\n",
              "      <th>Are you feeling sick/health issues today?</th>\n",
              "      <th>Have you done any recreational activity (sports, gaming, hobby etc.) today?</th>\n",
              "      <th>How long did you sleep last night?(in hours)</th>\n",
              "    </tr>\n",
              "  </thead>\n",
              "  <tbody>\n",
              "    <tr>\n",
              "      <th>0</th>\n",
              "      <td>4th year</td>\n",
              "      <td>Normal</td>\n",
              "      <td>65</td>\n",
              "      <td>Male</td>\n",
              "      <td>22</td>\n",
              "      <td>Home</td>\n",
              "      <td>Single</td>\n",
              "      <td>Yes</td>\n",
              "      <td>3</td>\n",
              "      <td>Good</td>\n",
              "      <td>Yes</td>\n",
              "      <td>No</td>\n",
              "      <td>Yes</td>\n",
              "      <td>Family</td>\n",
              "      <td>Yes</td>\n",
              "      <td>Yes</td>\n",
              "      <td>Yes</td>\n",
              "      <td>No</td>\n",
              "      <td>No</td>\n",
              "      <td>8</td>\n",
              "    </tr>\n",
              "    <tr>\n",
              "      <th>1</th>\n",
              "      <td>4th year</td>\n",
              "      <td>Good</td>\n",
              "      <td>75</td>\n",
              "      <td>Male</td>\n",
              "      <td>22</td>\n",
              "      <td>Home</td>\n",
              "      <td>Single</td>\n",
              "      <td>Yes</td>\n",
              "      <td>3</td>\n",
              "      <td>Normal</td>\n",
              "      <td>Yes</td>\n",
              "      <td>No</td>\n",
              "      <td>Yes</td>\n",
              "      <td>Family</td>\n",
              "      <td>No</td>\n",
              "      <td>No</td>\n",
              "      <td>Yes</td>\n",
              "      <td>Yes</td>\n",
              "      <td>No</td>\n",
              "      <td>6</td>\n",
              "    </tr>\n",
              "    <tr>\n",
              "      <th>2</th>\n",
              "      <td>2nd year</td>\n",
              "      <td>Bad</td>\n",
              "      <td>25</td>\n",
              "      <td>Male</td>\n",
              "      <td>22</td>\n",
              "      <td>Home</td>\n",
              "      <td>Single</td>\n",
              "      <td>Yes</td>\n",
              "      <td>2</td>\n",
              "      <td>Normal</td>\n",
              "      <td>Yes</td>\n",
              "      <td>No</td>\n",
              "      <td>No</td>\n",
              "      <td>No one</td>\n",
              "      <td>Yes</td>\n",
              "      <td>Yes</td>\n",
              "      <td>Yes</td>\n",
              "      <td>Yes</td>\n",
              "      <td>Yes</td>\n",
              "      <td>6</td>\n",
              "    </tr>\n",
              "    <tr>\n",
              "      <th>3</th>\n",
              "      <td>3rd year</td>\n",
              "      <td>Bad</td>\n",
              "      <td>25</td>\n",
              "      <td>Male</td>\n",
              "      <td>22</td>\n",
              "      <td>Home</td>\n",
              "      <td>Single</td>\n",
              "      <td>Yes</td>\n",
              "      <td>1</td>\n",
              "      <td>Good</td>\n",
              "      <td>Yes</td>\n",
              "      <td>Yes</td>\n",
              "      <td>No</td>\n",
              "      <td>Family</td>\n",
              "      <td>Yes</td>\n",
              "      <td>Yes</td>\n",
              "      <td>Yes</td>\n",
              "      <td>Yes</td>\n",
              "      <td>Yes</td>\n",
              "      <td>6</td>\n",
              "    </tr>\n",
              "    <tr>\n",
              "      <th>4</th>\n",
              "      <td>1st year</td>\n",
              "      <td>Normal</td>\n",
              "      <td>50</td>\n",
              "      <td>Male</td>\n",
              "      <td>22</td>\n",
              "      <td>Home</td>\n",
              "      <td>Single</td>\n",
              "      <td>Yes</td>\n",
              "      <td>3</td>\n",
              "      <td>Good</td>\n",
              "      <td>Yes</td>\n",
              "      <td>No</td>\n",
              "      <td>Yes</td>\n",
              "      <td>No one</td>\n",
              "      <td>Yes</td>\n",
              "      <td>Yes</td>\n",
              "      <td>Yes</td>\n",
              "      <td>Yes</td>\n",
              "      <td>Yes</td>\n",
              "      <td>6</td>\n",
              "    </tr>\n",
              "  </tbody>\n",
              "</table>\n",
              "</div>"
            ],
            "text/plain": [
              "  Which year are you in?  ... How long did you sleep last night?(in hours)\n",
              "0               4th year  ...                                            8\n",
              "1               4th year  ...                                            6\n",
              "2               2nd year  ...                                            6\n",
              "3               3rd year  ...                                            6\n",
              "4               1st year  ...                                            6\n",
              "\n",
              "[5 rows x 20 columns]"
            ]
          },
          "metadata": {},
          "execution_count": 6
        }
      ]
    },
    {
      "cell_type": "code",
      "metadata": {
        "colab": {
          "base_uri": "https://localhost:8080/",
          "height": 374
        },
        "id": "TQcaUVcB1ba8",
        "outputId": "20f25da4-7cc3-439c-af09-87e6fa27026b"
      },
      "source": [
        "from sklearn.preprocessing import LabelEncoder\n",
        "dataset_encoded=df.iloc[:,0:20]\n",
        "\n",
        "le=LabelEncoder()\n",
        "\n",
        "for i in dataset_encoded:\n",
        "    dataset_encoded[i]=le.fit_transform(dataset_encoded[i])\n",
        "\n",
        "dataset_encoded.head()"
      ],
      "id": "TQcaUVcB1ba8",
      "execution_count": null,
      "outputs": [
        {
          "output_type": "execute_result",
          "data": {
            "text/html": [
              "<div>\n",
              "<style scoped>\n",
              "    .dataframe tbody tr th:only-of-type {\n",
              "        vertical-align: middle;\n",
              "    }\n",
              "\n",
              "    .dataframe tbody tr th {\n",
              "        vertical-align: top;\n",
              "    }\n",
              "\n",
              "    .dataframe thead th {\n",
              "        text-align: right;\n",
              "    }\n",
              "</style>\n",
              "<table border=\"1\" class=\"dataframe\">\n",
              "  <thead>\n",
              "    <tr style=\"text-align: right;\">\n",
              "      <th></th>\n",
              "      <th>Which year are you in?</th>\n",
              "      <th>How are you feeling right now?</th>\n",
              "      <th>On a scale of 1-100, how would you express this feeling?</th>\n",
              "      <th>Gender</th>\n",
              "      <th>Age</th>\n",
              "      <th>Your location ?</th>\n",
              "      <th>Relationship status</th>\n",
              "      <th>Are you happy with your financial state?</th>\n",
              "      <th>How much have you succeeded to cope up with the environment of your educational institution?</th>\n",
              "      <th>Understanding with your family members?</th>\n",
              "      <th>Are you feeling pressure in your study or work right now?</th>\n",
              "      <th>Are you satisfied with your academic result?</th>\n",
              "      <th>Are you happy with your living place?</th>\n",
              "      <th>Who supports you when you are not succeeding in your academic life?</th>\n",
              "      <th>Have you used any social media within the last 6 hours?</th>\n",
              "      <th>Do you have inferiority complex?</th>\n",
              "      <th>Are you satisfied with your meal today?</th>\n",
              "      <th>Are you feeling sick/health issues today?</th>\n",
              "      <th>Have you done any recreational activity (sports, gaming, hobby etc.) today?</th>\n",
              "      <th>How long did you sleep last night?(in hours)</th>\n",
              "    </tr>\n",
              "  </thead>\n",
              "  <tbody>\n",
              "    <tr>\n",
              "      <th>0</th>\n",
              "      <td>3</td>\n",
              "      <td>2</td>\n",
              "      <td>29</td>\n",
              "      <td>0</td>\n",
              "      <td>3</td>\n",
              "      <td>2</td>\n",
              "      <td>0</td>\n",
              "      <td>1</td>\n",
              "      <td>2</td>\n",
              "      <td>0</td>\n",
              "      <td>1</td>\n",
              "      <td>0</td>\n",
              "      <td>1</td>\n",
              "      <td>0</td>\n",
              "      <td>2</td>\n",
              "      <td>3</td>\n",
              "      <td>2</td>\n",
              "      <td>0</td>\n",
              "      <td>0</td>\n",
              "      <td>4</td>\n",
              "    </tr>\n",
              "    <tr>\n",
              "      <th>1</th>\n",
              "      <td>3</td>\n",
              "      <td>1</td>\n",
              "      <td>33</td>\n",
              "      <td>0</td>\n",
              "      <td>3</td>\n",
              "      <td>2</td>\n",
              "      <td>0</td>\n",
              "      <td>1</td>\n",
              "      <td>2</td>\n",
              "      <td>1</td>\n",
              "      <td>1</td>\n",
              "      <td>0</td>\n",
              "      <td>1</td>\n",
              "      <td>0</td>\n",
              "      <td>0</td>\n",
              "      <td>1</td>\n",
              "      <td>2</td>\n",
              "      <td>1</td>\n",
              "      <td>0</td>\n",
              "      <td>2</td>\n",
              "    </tr>\n",
              "    <tr>\n",
              "      <th>2</th>\n",
              "      <td>1</td>\n",
              "      <td>0</td>\n",
              "      <td>9</td>\n",
              "      <td>0</td>\n",
              "      <td>3</td>\n",
              "      <td>2</td>\n",
              "      <td>0</td>\n",
              "      <td>1</td>\n",
              "      <td>1</td>\n",
              "      <td>1</td>\n",
              "      <td>1</td>\n",
              "      <td>0</td>\n",
              "      <td>0</td>\n",
              "      <td>2</td>\n",
              "      <td>2</td>\n",
              "      <td>3</td>\n",
              "      <td>2</td>\n",
              "      <td>1</td>\n",
              "      <td>1</td>\n",
              "      <td>2</td>\n",
              "    </tr>\n",
              "    <tr>\n",
              "      <th>3</th>\n",
              "      <td>2</td>\n",
              "      <td>0</td>\n",
              "      <td>9</td>\n",
              "      <td>0</td>\n",
              "      <td>3</td>\n",
              "      <td>2</td>\n",
              "      <td>0</td>\n",
              "      <td>1</td>\n",
              "      <td>0</td>\n",
              "      <td>0</td>\n",
              "      <td>1</td>\n",
              "      <td>2</td>\n",
              "      <td>0</td>\n",
              "      <td>0</td>\n",
              "      <td>2</td>\n",
              "      <td>3</td>\n",
              "      <td>2</td>\n",
              "      <td>1</td>\n",
              "      <td>1</td>\n",
              "      <td>2</td>\n",
              "    </tr>\n",
              "    <tr>\n",
              "      <th>4</th>\n",
              "      <td>0</td>\n",
              "      <td>2</td>\n",
              "      <td>19</td>\n",
              "      <td>0</td>\n",
              "      <td>3</td>\n",
              "      <td>2</td>\n",
              "      <td>0</td>\n",
              "      <td>1</td>\n",
              "      <td>2</td>\n",
              "      <td>0</td>\n",
              "      <td>1</td>\n",
              "      <td>0</td>\n",
              "      <td>1</td>\n",
              "      <td>2</td>\n",
              "      <td>2</td>\n",
              "      <td>3</td>\n",
              "      <td>2</td>\n",
              "      <td>1</td>\n",
              "      <td>1</td>\n",
              "      <td>2</td>\n",
              "    </tr>\n",
              "  </tbody>\n",
              "</table>\n",
              "</div>"
            ],
            "text/plain": [
              "   Which year are you in?  ...  How long did you sleep last night?(in hours)\n",
              "0                       3  ...                                             4\n",
              "1                       3  ...                                             2\n",
              "2                       1  ...                                             2\n",
              "3                       2  ...                                             2\n",
              "4                       0  ...                                             2\n",
              "\n",
              "[5 rows x 20 columns]"
            ]
          },
          "metadata": {},
          "execution_count": 7
        }
      ]
    },
    {
      "cell_type": "code",
      "metadata": {
        "colab": {
          "base_uri": "https://localhost:8080/"
        },
        "id": "r_DSTASVCwBv",
        "outputId": "49352f19-0d40-4236-e1f6-50d371e209e5"
      },
      "source": [
        "dataset_encoded.dtypes"
      ],
      "id": "r_DSTASVCwBv",
      "execution_count": null,
      "outputs": [
        {
          "output_type": "execute_result",
          "data": {
            "text/plain": [
              "Which year are you in?                                                                          int64\n",
              "How are you feeling right now?                                                                  int64\n",
              "On a scale of 1-100, how would you express this feeling?                                        int64\n",
              "Gender                                                                                          int64\n",
              "Age                                                                                             int64\n",
              "Your location ?                                                                                 int64\n",
              "Relationship status                                                                             int64\n",
              "Are you happy with your financial state?                                                        int64\n",
              "How much have you succeeded to cope up with the environment of your educational institution?    int64\n",
              "Understanding with your family members?                                                         int64\n",
              "Are you feeling pressure in your study or work right now?                                       int64\n",
              "Are you satisfied with your academic result?                                                    int64\n",
              "Are you happy with your living place?                                                           int64\n",
              "Who supports you when you are not succeeding in your academic life?                             int64\n",
              "Have you used any social media within the last 6 hours?                                         int64\n",
              "Do you have inferiority complex?                                                                int64\n",
              "Are you satisfied with your meal today?                                                         int64\n",
              "Are you feeling sick/health issues today?                                                       int64\n",
              "Have you done any recreational activity (sports, gaming, hobby etc.) today?                     int64\n",
              "How long did you sleep last night?(in hours)                                                    int64\n",
              "dtype: object"
            ]
          },
          "metadata": {},
          "execution_count": 8
        }
      ]
    },
    {
      "cell_type": "code",
      "metadata": {
        "id": "TcZ6ONMH1ba9"
      },
      "source": [
        "X=dataset_encoded.drop('How are you feeling right now?', axis=1)\n",
        "y=dataset_encoded['How are you feeling right now?']"
      ],
      "id": "TcZ6ONMH1ba9",
      "execution_count": null,
      "outputs": []
    },
    {
      "cell_type": "code",
      "metadata": {
        "id": "TX0JKOLh1ba9"
      },
      "source": [
        "cols=X.columns"
      ],
      "id": "TX0JKOLh1ba9",
      "execution_count": null,
      "outputs": []
    },
    {
      "cell_type": "code",
      "metadata": {
        "id": "0-l-cEOn1ba9"
      },
      "source": [
        "from sklearn.preprocessing import MinMaxScaler\n",
        "scaler=MinMaxScaler()\n",
        "\n",
        "X=scaler.fit_transform(X)"
      ],
      "id": "0-l-cEOn1ba9",
      "execution_count": null,
      "outputs": []
    },
    {
      "cell_type": "code",
      "metadata": {
        "id": "Q2ZfSo1u1ba-"
      },
      "source": [
        "X=pd.DataFrame(X, columns=[cols])"
      ],
      "id": "Q2ZfSo1u1ba-",
      "execution_count": null,
      "outputs": []
    },
    {
      "cell_type": "code",
      "metadata": {
        "colab": {
          "base_uri": "https://localhost:8080/",
          "height": 301
        },
        "id": "VNCX9mvb1ba-",
        "outputId": "ff9c54b3-b666-45e3-bf52-7572971775a6"
      },
      "source": [
        "from sklearn.cluster import KMeans\n",
        "cs = []\n",
        "for i in range(1, 15):\n",
        "    kmeans=KMeans(n_clusters=i, init='k-means++', max_iter=300, n_init=10, random_state=0)\n",
        "    kmeans.fit(X)\n",
        "    cs.append(kmeans.inertia_)\n",
        "plt.plot(range(1, 15), cs)\n",
        "plt.title('The Elbow Method')\n",
        "plt.xlabel('Number of clusters')\n",
        "plt.ylabel('CS')\n",
        "plt.show()"
      ],
      "id": "VNCX9mvb1ba-",
      "execution_count": null,
      "outputs": [
        {
          "output_type": "display_data",
          "data": {
            "image/png": "[encoded data removed]",
            "text/plain": [
              "<Figure size 432x288 with 1 Axes>"
            ]
          },
          "metadata": {
            "needs_background": "light"
          }
        }
      ]
    },
    {
      "cell_type": "markdown",
      "metadata": {
        "id": "j3v8LJt51ba_"
      },
      "source": [
        "# Implementing K-means"
      ],
      "id": "j3v8LJt51ba_"
    },
    {
      "cell_type": "code",
      "metadata": {
        "id": "u0u67Di51bbA"
      },
      "source": [
        "from scipy.spatial.distance import cdist \n",
        " \n",
        "def kmeans(data,k, epochs):\n",
        "    idx=np.random.choice(len(data), k, replace=False)\n",
        "    centroids=data[idx, :]\n",
        "    distances=cdist(data, centroids ,'euclidean')\n",
        "    points=np.array([np.argmin(i) for i in distances])\n",
        "    for _ in range(epochs): \n",
        "        centroids=[]\n",
        "        for idx in range(k):\n",
        "            temp_cent=data[points==idx].mean(axis=0) \n",
        "            centroids.append(temp_cent)\n",
        "        centroids=np.vstack(centroids) \n",
        "        distances=cdist(data, centroids ,'euclidean')\n",
        "        points=np.array([np.argmin(i) for i in distances])\n",
        "         \n",
        "    return points "
      ],
      "id": "u0u67Di51bbA",
      "execution_count": null,
      "outputs": []
    },
    {
      "cell_type": "code",
      "metadata": {
        "id": "9tScEwhO1bbA"
      },
      "source": [
        "from sklearn.decomposition import PCA"
      ],
      "id": "9tScEwhO1bbA",
      "execution_count": null,
      "outputs": []
    },
    {
      "cell_type": "code",
      "metadata": {
        "colab": {
          "base_uri": "https://localhost:8080/",
          "height": 297
        },
        "id": "cu6VhEmU1bbA",
        "outputId": "08994e10-0600-46f4-f2e2-56b788fae582"
      },
      "source": [
        "pca=PCA(2)\n",
        "df=pca.fit_transform(dataset_encoded)\n",
        "label=kmeans(df,9,1000) \n",
        "unique_labels = np.unique(label)\n",
        "for i in unique_labels:\n",
        "    plt.scatter(df[label == i , 0] , df[label == i , 1] , label = i)\n",
        "plt.legend()\n",
        "plt.tight_layout()\n",
        "plt.show()"
      ],
      "id": "cu6VhEmU1bbA",
      "execution_count": null,
      "outputs": [
        {
          "output_type": "display_data",
          "data": {
            "image/png": "[encoded data removed]",
            "text/plain": [
              "<Figure size 432x288 with 1 Axes>"
            ]
          },
          "metadata": {
            "needs_background": "light"
          }
        }
      ]
    },
    {
      "cell_type": "code",
      "metadata": {
        "colab": {
          "base_uri": "https://localhost:8080/"
        },
        "id": "ZYGRzqbT1bbB",
        "outputId": "dcb50672-65e1-461b-ba49-5f2518939499"
      },
      "source": [
        "unique_labels"
      ],
      "id": "ZYGRzqbT1bbB",
      "execution_count": null,
      "outputs": [
        {
          "output_type": "execute_result",
          "data": {
            "text/plain": [
              "array([0, 1, 2, 3, 4, 5, 6, 7, 8])"
            ]
          },
          "metadata": {},
          "execution_count": 27
        }
      ]
    },
    {
      "cell_type": "code",
      "metadata": {
        "id": "srU3DGFF1bbB"
      },
      "source": [
        ""
      ],
      "id": "srU3DGFF1bbB",
      "execution_count": null,
      "outputs": []
    }
  ]
}