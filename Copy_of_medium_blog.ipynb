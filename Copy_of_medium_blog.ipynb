{
  "nbformat": 4,
  "nbformat_minor": 0,
  "metadata": {
    "colab": {
      "name": "Copy of medium blog.ipynb",
      "provenance": [],
      "collapsed_sections": []
    },
    "kernelspec": {
      "name": "python3",
      "display_name": "Python 3"
    }
  },
  "cells": [
    {
      "cell_type": "code",
      "metadata": {
        "id": "drva17WCS542"
      },
      "source": [
        "import pandas as pd  \n",
        "import numpy as np\n",
        "import matplotlib.pyplot as plt\n",
        "plt.style.use('fivethirtyeight')\n",
        "\n",
        "%matplotlib inline\n",
        "%config InlineBackend.figure_format = 'retina'\n"
      ],
      "execution_count": null,
      "outputs": []
    },
    {
      "cell_type": "code",
      "metadata": {
        "id": "VL1QLmcDTTKF",
        "colab": {
          "base_uri": "https://localhost:8080/"
        },
        "outputId": "142d11a0-5bef-404c-9d66-f5f6969a4ed9"
      },
      "source": [
        "import glob\n",
        "'''\n",
        "all_files = glob.glob(\"/content/drive/My Drive/dataset/implementation/4 (extra prev removed).csv\")\n",
        "frame = pd.DataFrame()\n",
        "list_ = []\n",
        "for file_ in all_files:\n",
        "    df = pd.read_csv(file_,index_col=None, sep=',', header=None, names=['text','types','to_delete'])\n",
        "    list_.append(df.iloc[:,:-1])\n",
        "df = pd.concat(list_)\n",
        "'''\n",
        "df = pd.read_csv('Train(5333).csv')\n",
        "df = df.dropna()\n",
        "df = df.reset_index(drop=True)\n",
        "print('Shape of dataset ',df.shape)\n",
        "print(df.columns)\n",
        "print('No. of unique classes',len(set(df.iloc[:,1])))\n"
      ],
      "execution_count": null,
      "outputs": [
        {
          "output_type": "stream",
          "text": [
            "Shape of dataset  (5333, 2)\n",
            "Index(['Text', 'Label'], dtype='object')\n",
            "No. of unique classes 5\n"
          ],
          "name": "stdout"
        }
      ]
    },
    {
      "cell_type": "code",
      "metadata": {
        "id": "AnXbzRSfJuHw"
      },
      "source": [
        "df = pd.read_csv('Train(5333).csv')\r\n",
        "df = df.dropna()\r\n",
        "df = df.reset_index(drop=True)\r\n",
        "print('Shape of dataset ',df.shape)\r\n",
        "print(df.columns)\r\n",
        "print('No. of unique classes',len(set(df.iloc[:,1])))\r\n"
      ],
      "execution_count": null,
      "outputs": []
    },
    {
      "cell_type": "code",
      "metadata": {
        "colab": {
          "base_uri": "https://localhost:8080/"
        },
        "id": "vGcPLjC8J4gy",
        "outputId": "00136f96-aa68-41ac-bd4d-08d5aa46a791"
      },
      "source": [
        "df1 = pd.read_csv('Test(1334).csv')\r\n",
        "df1 = df1.dropna()\r\n",
        "df1 = df1.reset_index(drop=True)\r\n",
        "print('Shape of dataset ',df1.shape)\r\n",
        "print(df1.columns)\r\n",
        "print('No. of unique classes',len(set(df1.iloc[:,1])))\r\n"
      ],
      "execution_count": null,
      "outputs": [
        {
          "output_type": "stream",
          "text": [
            "Shape of dataset  (1334, 2)\n",
            "Index(['Text', 'Label'], dtype='object')\n",
            "No. of unique classes 5\n"
          ],
          "name": "stdout"
        }
      ]
    },
    {
      "cell_type": "code",
      "metadata": {
        "id": "a8_zBn5m6Sjd",
        "colab": {
          "resources": {
            "http://localhost:8080/nbextensions/google.colab/files.js": {
              "data": "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",
              "ok": true,
              "headers": [
                [
                  "content-type",
                  "application/javascript"
                ]
              ],
              "status": 200,
              "status_text": ""
            }
          },
          "base_uri": "https://localhost:8080/",
          "height": 73
        },
        "outputId": "99114a4f-d74e-4d35-d2a5-d68fc2bf41ca"
      },
      "source": [
        "from google.colab import files\n",
        "uploaded = files.upload()"
      ],
      "execution_count": null,
      "outputs": [
        {
          "output_type": "display_data",
          "data": {
            "text/html": [
              "\n",
              "     <input type=\"file\" id=\"files-3aab8f70-d37b-4f18-a6b5-8f24929bf6ed\" name=\"files[]\" multiple disabled\n",
              "        style=\"border:none\" />\n",
              "     <output id=\"result-3aab8f70-d37b-4f18-a6b5-8f24929bf6ed\">\n",
              "      Upload widget is only available when the cell has been executed in the\n",
              "      current browser session. Please rerun this cell to enable.\n",
              "      </output>\n",
              "      <script src=\"/nbextensions/google.colab/files.js\"></script> "
            ],
            "text/plain": [
              "<IPython.core.display.HTML object>"
            ]
          },
          "metadata": {
            "tags": []
          }
        },
        {
          "output_type": "stream",
          "text": [
            "Saving 4.csv to 4.csv\n"
          ],
          "name": "stdout"
        }
      ]
    },
    {
      "cell_type": "code",
      "metadata": {
        "id": "X77VuPVKTTP8",
        "colab": {
          "base_uri": "https://localhost:8080/",
          "height": 216
        },
        "outputId": "b52e4a22-b59b-42eb-deb9-b091458e1cdf"
      },
      "source": [
        "df = df.drop_duplicates()\n",
        "df = df.reset_index(drop=True)\n",
        "df.head()"
      ],
      "execution_count": null,
      "outputs": [
        {
          "output_type": "execute_result",
          "data": {
            "text/html": [
              "<div>\n",
              "<style scoped>\n",
              "    .dataframe tbody tr th:only-of-type {\n",
              "        vertical-align: middle;\n",
              "    }\n",
              "\n",
              "    .dataframe tbody tr th {\n",
              "        vertical-align: top;\n",
              "    }\n",
              "\n",
              "    .dataframe thead th {\n",
              "        text-align: right;\n",
              "    }\n",
              "</style>\n",
              "<table border=\"1\" class=\"dataframe\">\n",
              "  <thead>\n",
              "    <tr style=\"text-align: right;\">\n",
              "      <th></th>\n",
              "      <th>WP$</th>\n",
              "      <th>PRP$</th>\n",
              "      <th>VBG</th>\n",
              "      <th>EX</th>\n",
              "      <th>RBR</th>\n",
              "      <th>$</th>\n",
              "      <th>CC</th>\n",
              "      <th>TO</th>\n",
              "      <th>NNPS</th>\n",
              "      <th>JJ</th>\n",
              "      <th>CD</th>\n",
              "      <th>RBS</th>\n",
              "      <th>WP</th>\n",
              "      <th>WRB</th>\n",
              "      <th>NNP</th>\n",
              "      <th>VB</th>\n",
              "      <th>VBP</th>\n",
              "      <th>UH</th>\n",
              "      <th>VBN</th>\n",
              "      <th>VBZ</th>\n",
              "      <th>IN</th>\n",
              "      <th>RP</th>\n",
              "      <th>VBD</th>\n",
              "      <th>MD</th>\n",
              "      <th>NNS</th>\n",
              "      <th>JJR</th>\n",
              "      <th>DT</th>\n",
              "      <th>NN</th>\n",
              "      <th>JJS</th>\n",
              "      <th>RB</th>\n",
              "      <th>WDT</th>\n",
              "      <th>FW</th>\n",
              "      <th>PRP</th>\n",
              "    </tr>\n",
              "  </thead>\n",
              "  <tbody>\n",
              "    <tr>\n",
              "      <th>0</th>\n",
              "      <td>0</td>\n",
              "      <td>0</td>\n",
              "      <td>0</td>\n",
              "      <td>0</td>\n",
              "      <td>0</td>\n",
              "      <td>0</td>\n",
              "      <td>0</td>\n",
              "      <td>0</td>\n",
              "      <td>0</td>\n",
              "      <td>1</td>\n",
              "      <td>3</td>\n",
              "      <td>0</td>\n",
              "      <td>0</td>\n",
              "      <td>0</td>\n",
              "      <td>0</td>\n",
              "      <td>0</td>\n",
              "      <td>1</td>\n",
              "      <td>0</td>\n",
              "      <td>0</td>\n",
              "      <td>0</td>\n",
              "      <td>0</td>\n",
              "      <td>0</td>\n",
              "      <td>0</td>\n",
              "      <td>0</td>\n",
              "      <td>2</td>\n",
              "      <td>0</td>\n",
              "      <td>0</td>\n",
              "      <td>1</td>\n",
              "      <td>0</td>\n",
              "      <td>0</td>\n",
              "      <td>0</td>\n",
              "      <td>0</td>\n",
              "      <td>0</td>\n",
              "    </tr>\n",
              "    <tr>\n",
              "      <th>1</th>\n",
              "      <td>0</td>\n",
              "      <td>0</td>\n",
              "      <td>0</td>\n",
              "      <td>0</td>\n",
              "      <td>0</td>\n",
              "      <td>0</td>\n",
              "      <td>0</td>\n",
              "      <td>0</td>\n",
              "      <td>0</td>\n",
              "      <td>5</td>\n",
              "      <td>1</td>\n",
              "      <td>0</td>\n",
              "      <td>0</td>\n",
              "      <td>0</td>\n",
              "      <td>0</td>\n",
              "      <td>0</td>\n",
              "      <td>3</td>\n",
              "      <td>0</td>\n",
              "      <td>0</td>\n",
              "      <td>0</td>\n",
              "      <td>0</td>\n",
              "      <td>0</td>\n",
              "      <td>1</td>\n",
              "      <td>0</td>\n",
              "      <td>3</td>\n",
              "      <td>0</td>\n",
              "      <td>0</td>\n",
              "      <td>3</td>\n",
              "      <td>0</td>\n",
              "      <td>1</td>\n",
              "      <td>0</td>\n",
              "      <td>0</td>\n",
              "      <td>0</td>\n",
              "    </tr>\n",
              "    <tr>\n",
              "      <th>2</th>\n",
              "      <td>0</td>\n",
              "      <td>0</td>\n",
              "      <td>0</td>\n",
              "      <td>0</td>\n",
              "      <td>0</td>\n",
              "      <td>0</td>\n",
              "      <td>0</td>\n",
              "      <td>0</td>\n",
              "      <td>0</td>\n",
              "      <td>1</td>\n",
              "      <td>2</td>\n",
              "      <td>0</td>\n",
              "      <td>0</td>\n",
              "      <td>0</td>\n",
              "      <td>0</td>\n",
              "      <td>0</td>\n",
              "      <td>1</td>\n",
              "      <td>0</td>\n",
              "      <td>0</td>\n",
              "      <td>0</td>\n",
              "      <td>0</td>\n",
              "      <td>0</td>\n",
              "      <td>0</td>\n",
              "      <td>0</td>\n",
              "      <td>2</td>\n",
              "      <td>0</td>\n",
              "      <td>0</td>\n",
              "      <td>1</td>\n",
              "      <td>0</td>\n",
              "      <td>0</td>\n",
              "      <td>0</td>\n",
              "      <td>0</td>\n",
              "      <td>0</td>\n",
              "    </tr>\n",
              "    <tr>\n",
              "      <th>3</th>\n",
              "      <td>0</td>\n",
              "      <td>0</td>\n",
              "      <td>1</td>\n",
              "      <td>0</td>\n",
              "      <td>0</td>\n",
              "      <td>0</td>\n",
              "      <td>0</td>\n",
              "      <td>0</td>\n",
              "      <td>0</td>\n",
              "      <td>2</td>\n",
              "      <td>1</td>\n",
              "      <td>0</td>\n",
              "      <td>0</td>\n",
              "      <td>0</td>\n",
              "      <td>0</td>\n",
              "      <td>1</td>\n",
              "      <td>1</td>\n",
              "      <td>0</td>\n",
              "      <td>0</td>\n",
              "      <td>0</td>\n",
              "      <td>1</td>\n",
              "      <td>0</td>\n",
              "      <td>0</td>\n",
              "      <td>0</td>\n",
              "      <td>0</td>\n",
              "      <td>0</td>\n",
              "      <td>0</td>\n",
              "      <td>2</td>\n",
              "      <td>0</td>\n",
              "      <td>0</td>\n",
              "      <td>0</td>\n",
              "      <td>0</td>\n",
              "      <td>0</td>\n",
              "    </tr>\n",
              "    <tr>\n",
              "      <th>4</th>\n",
              "      <td>0</td>\n",
              "      <td>0</td>\n",
              "      <td>1</td>\n",
              "      <td>0</td>\n",
              "      <td>0</td>\n",
              "      <td>0</td>\n",
              "      <td>0</td>\n",
              "      <td>0</td>\n",
              "      <td>0</td>\n",
              "      <td>0</td>\n",
              "      <td>1</td>\n",
              "      <td>0</td>\n",
              "      <td>0</td>\n",
              "      <td>0</td>\n",
              "      <td>0</td>\n",
              "      <td>0</td>\n",
              "      <td>0</td>\n",
              "      <td>0</td>\n",
              "      <td>0</td>\n",
              "      <td>0</td>\n",
              "      <td>0</td>\n",
              "      <td>0</td>\n",
              "      <td>0</td>\n",
              "      <td>0</td>\n",
              "      <td>2</td>\n",
              "      <td>0</td>\n",
              "      <td>0</td>\n",
              "      <td>1</td>\n",
              "      <td>0</td>\n",
              "      <td>1</td>\n",
              "      <td>0</td>\n",
              "      <td>0</td>\n",
              "      <td>0</td>\n",
              "    </tr>\n",
              "  </tbody>\n",
              "</table>\n",
              "</div>"
            ],
            "text/plain": [
              "   WP$  PRP$  VBG  EX  RBR  $  CC  TO  ...  JJR  DT  NN  JJS  RB  WDT  FW  PRP\n",
              "0    0     0    0   0    0  0   0   0  ...    0   0   1    0   0    0   0    0\n",
              "1    0     0    0   0    0  0   0   0  ...    0   0   3    0   1    0   0    0\n",
              "2    0     0    0   0    0  0   0   0  ...    0   0   1    0   0    0   0    0\n",
              "3    0     0    1   0    0  0   0   0  ...    0   0   2    0   0    0   0    0\n",
              "4    0     0    1   0    0  0   0   0  ...    0   0   1    0   1    0   0    0\n",
              "\n",
              "[5 rows x 33 columns]"
            ]
          },
          "metadata": {
            "tags": []
          },
          "execution_count": 3
        }
      ]
    },
    {
      "cell_type": "code",
      "metadata": {
        "id": "oVTkl7fBrdGR"
      },
      "source": [
        ""
      ],
      "execution_count": null,
      "outputs": []
    },
    {
      "cell_type": "code",
      "metadata": {
        "id": "AAHJ_fNFTTZ4",
        "colab": {
          "base_uri": "https://localhost:8080/"
        },
        "outputId": "ce0bf853-a44c-4c5a-dccf-73011fa72241"
      },
      "source": [
        "df['token_length'] = [len(x.split(\" \")) for x in df.Text]\n",
        "max(df.token_length)"
      ],
      "execution_count": null,
      "outputs": [
        {
          "output_type": "execute_result",
          "data": {
            "text/plain": [
              "65"
            ]
          },
          "metadata": {
            "tags": []
          },
          "execution_count": 5
        }
      ]
    },
    {
      "cell_type": "code",
      "metadata": {
        "id": "U5nZyOluTTeV",
        "colab": {
          "base_uri": "https://localhost:8080/",
          "height": 85
        },
        "outputId": "6be3cf36-2c7c-47b6-b849-458a4105fc4c"
      },
      "source": [
        "df.loc[df.token_length.idxmax(),'Text']"
      ],
      "execution_count": null,
      "outputs": [
        {
          "output_type": "execute_result",
          "data": {
            "application/vnd.google.colaboratory.intrinsic+json": {
              "type": "string"
            },
            "text/plain": [
              "'russia publish info pre clinical clinical trials covid 19 vaccine soon would someone vaccinate child chicken pox vaccine child chicken pox already measles that treatment let s take science would trust vaccine donald trump promoting he s promoting chloraquinetreatment wants locking ive seen mask worn yorkshire 7 week uk heading back lockdown next mo watched tamil moviepremiere 2020 bigil 164m impressions watched tamil movie lockdown'"
            ]
          },
          "metadata": {
            "tags": []
          },
          "execution_count": 6
        }
      ]
    },
    {
      "cell_type": "code",
      "metadata": {
        "id": "G49IxmDrTTig",
        "colab": {
          "base_uri": "https://localhost:8080/"
        },
        "outputId": "fdd48f49-8618-44f2-c228-282c6ead2659"
      },
      "source": [
        "\n",
        "df1['token_length'] = [len(x.split(\" \")) for x in df1.Text]\n",
        "max(df1.token_length)"
      ],
      "execution_count": null,
      "outputs": [
        {
          "output_type": "execute_result",
          "data": {
            "text/plain": [
              "37"
            ]
          },
          "metadata": {
            "tags": []
          },
          "execution_count": 8
        }
      ]
    },
    {
      "cell_type": "code",
      "metadata": {
        "id": "-OxhDj9oTTnB"
      },
      "source": [
        "# cleaning"
      ],
      "execution_count": null,
      "outputs": []
    },
    {
      "cell_type": "code",
      "metadata": {
        "id": "plSP5pLkTTrb",
        "colab": {
          "base_uri": "https://localhost:8080/"
        },
        "outputId": "92151832-b6db-4c04-da08-85d26665b631"
      },
      "source": [
        "df.Text[:10]"
      ],
      "execution_count": null,
      "outputs": [
        {
          "output_type": "execute_result",
          "data": {
            "text/plain": [
              "0             100 188513 deaths covid covid 6 deaths w\n",
              "1    100 dav ive got post covid19 maladies include ...\n",
              "2                  100 deaths covid covid 6 deaths peo\n",
              "3             1000 per day read fine seeing want say h\n",
              "4    10000 people preexisting conditions asthmahigh...\n",
              "5    10k means 10k 100 healthy people died covid 18...\n",
              "6                       10k number roundly rejected as\n",
              "7    12 bradykinin peptide lower blood pressure inc...\n",
              "8    12 dont tweet often something happened complet...\n",
              "9     12 dont understand data amp sciencei get youre a\n",
              "Name: Text, dtype: object"
            ]
          },
          "metadata": {
            "tags": []
          },
          "execution_count": 8
        }
      ]
    },
    {
      "cell_type": "markdown",
      "metadata": {
        "id": "w2fYF-LucWFi"
      },
      "source": [
        "**original imbalance data**\n"
      ]
    },
    {
      "cell_type": "code",
      "metadata": {
        "id": "ATx0I7kHTTv1"
      },
      "source": [
        "from sklearn.linear_model import LogisticRegression\n",
        "from sklearn.feature_extraction.text import TfidfVectorizer\n",
        "from sklearn.ensemble import RandomForestClassifier, AdaBoostClassifier\n",
        "from sklearn.neighbors import KNeighborsClassifier\n",
        "from sklearn.svm import LinearSVC\n",
        "from sklearn.linear_model import SGDClassifier\n",
        "from sklearn.tree import DecisionTreeClassifier\n",
        "\n",
        "tvec = TfidfVectorizer( max_features = 10000, ngram_range=(1, 3))\n",
        "lr =LogisticRegression(random_state=0)"
      ],
      "execution_count": null,
      "outputs": []
    },
    {
      "cell_type": "code",
      "metadata": {
        "colab": {
          "base_uri": "https://localhost:8080/"
        },
        "id": "2oLYDrJaMje1",
        "outputId": "aef61063-6ca8-4011-dd4a-73cd3fdaf48d"
      },
      "source": [
        "X = np.asanyarray(df['Text'])\r\n",
        "X = X.reshape(-1, 1)\r\n",
        "X.shape"
      ],
      "execution_count": null,
      "outputs": [
        {
          "output_type": "execute_result",
          "data": {
            "text/plain": [
              "(5333, 1)"
            ]
          },
          "metadata": {
            "tags": []
          },
          "execution_count": 23
        }
      ]
    },
    {
      "cell_type": "code",
      "metadata": {
        "colab": {
          "base_uri": "https://localhost:8080/"
        },
        "id": "oNdH1MzBUn2y",
        "outputId": "ac6b3e0b-71cc-4f27-ead1-8fa7381339fe"
      },
      "source": [
        "X1 = np.asanyarray(df1['Text'])\r\n",
        "X1 = X1.reshape(-1, 1)\r\n",
        "X1.shape"
      ],
      "execution_count": null,
      "outputs": [
        {
          "output_type": "execute_result",
          "data": {
            "text/plain": [
              "(1334, 1)"
            ]
          },
          "metadata": {
            "tags": []
          },
          "execution_count": 26
        }
      ]
    },
    {
      "cell_type": "code",
      "metadata": {
        "colab": {
          "base_uri": "https://localhost:8080/"
        },
        "id": "PYrt_WDrU-K8",
        "outputId": "f84852a3-dee8-4c98-a056-319a77c5f1f7"
      },
      "source": [
        "Y = np.asanyarray(df['Label'])\r\n",
        "Y = Y.reshape(-1, 1)\r\n",
        "Y.shape"
      ],
      "execution_count": null,
      "outputs": [
        {
          "output_type": "execute_result",
          "data": {
            "text/plain": [
              "(5333, 1)"
            ]
          },
          "metadata": {
            "tags": []
          },
          "execution_count": 25
        }
      ]
    },
    {
      "cell_type": "code",
      "metadata": {
        "colab": {
          "base_uri": "https://localhost:8080/"
        },
        "id": "PnpWEkqJVXlp",
        "outputId": "868ef6aa-9f1c-4506-e9fb-a93a79a2a435"
      },
      "source": [
        "Y1 = np.asanyarray(df1['Label'])\r\n",
        "Y1 = Y1.reshape(-1, 1)\r\n",
        "Y1.shape"
      ],
      "execution_count": null,
      "outputs": [
        {
          "output_type": "execute_result",
          "data": {
            "text/plain": [
              "(1334, 1)"
            ]
          },
          "metadata": {
            "tags": []
          },
          "execution_count": 27
        }
      ]
    },
    {
      "cell_type": "code",
      "metadata": {
        "id": "dDjLpi39cjFd"
      },
      "source": [
        "from sklearn.model_selection import train_test_split\n",
        "from sklearn.metrics import precision_score, recall_score, f1_score\n",
        "\n",
        "def lr_cv(pipeline, average_method):\n",
        "    \n",
        "    X_train=df['Text']\n",
        "    X_test=df1['Text']\n",
        "    y_train=df['Label']\n",
        "    y_test =df1['Label']\n",
        "\n",
        "    accuracy = []\n",
        "    precision = []\n",
        "    recall = []\n",
        "    f1 = []\n",
        "    lr_fit = pipeline.fit(X_train, y_train)\n",
        "    prediction = lr_fit.predict(X_test)\n",
        "    scores = lr_fit.score(X_test,y_test)\n",
        "        \n",
        "    accuracy.append(scores * 100)\n",
        "    precision.append(precision_score(y_test, prediction, average=average_method)*100)\n",
        "    print('              negative    neutral     positive')\n",
        "    print('precision:',precision_score(y_test, prediction, average=None))\n",
        "    recall.append(recall_score(y_test, prediction, average=average_method)*100)\n",
        "    print('recall:   ',recall_score(y_test, prediction, average=None))\n",
        "    f1.append(f1_score(y_test, prediction, average=average_method)*100)\n",
        "    print('f1 score: ',f1_score(y_test, prediction, average=None))\n",
        "    print('-'*50)\n",
        "\n",
        "    print(\"accuracy: %.2f%% (+/- %.2f%%)\" % (np.mean(accuracy), np.std(accuracy)))\n",
        "    print(\"precision: %.2f%% (+/- %.2f%%)\" % (np.mean(precision), np.std(precision)))\n",
        "    print(\"recall: %.2f%% (+/- %.2f%%)\" % (np.mean(recall), np.std(recall)))\n",
        "    print(\"f1 score: %.2f%% (+/- %.2f%%)\" % (np.mean(f1), np.std(f1)))\n",
        "    from sklearn.metrics import confusion_matrix,classification_report\n",
        "    print(confusion_matrix(y_test, prediction))\n",
        "    print(classification_report(y_test, prediction))"
      ],
      "execution_count": null,
      "outputs": []
    },
    {
      "cell_type": "code",
      "metadata": {
        "id": "nxsYWpd0OIoB"
      },
      "source": [
        ""
      ],
      "execution_count": null,
      "outputs": []
    },
    {
      "cell_type": "code",
      "metadata": {
        "id": "s_Az65ntcjKg"
      },
      "source": [
        "from sklearn.pipeline import Pipeline\n",
        "\n",
        "original_pipeline = Pipeline([\n",
        "    ('vectorizer', tvec),\n",
        "    ('classifier', lr)\n",
        "])"
      ],
      "execution_count": null,
      "outputs": []
    },
    {
      "cell_type": "code",
      "metadata": {
        "colab": {
          "base_uri": "https://localhost:8080/"
        },
        "id": "4Vuyx1Gsvek1",
        "outputId": "4df3aa74-2458-4ccb-9d19-c73b0be51d68"
      },
      "source": [
        "X =  df#features\n",
        "y = y.values #target\n",
        "print (X.shape)\n",
        "print(y.shape)"
      ],
      "execution_count": null,
      "outputs": [
        {
          "output_type": "stream",
          "text": [
            "(6667, 35)\n",
            "(6667,)\n"
          ],
          "name": "stdout"
        }
      ]
    },
    {
      "cell_type": "code",
      "metadata": {
        "id": "XD1a6afmgTfQ"
      },
      "source": [
        "X = np.asanyarray(X)\n",
        "X = X.reshape((6666,1))\n"
      ],
      "execution_count": null,
      "outputs": []
    },
    {
      "cell_type": "code",
      "metadata": {
        "id": "TXM5Njvtgs1r",
        "colab": {
          "base_uri": "https://localhost:8080/"
        },
        "outputId": "b9623a6a-5c2b-470b-af04-597b115ef0b8"
      },
      "source": [
        "print (X.shape)"
      ],
      "execution_count": null,
      "outputs": [
        {
          "output_type": "stream",
          "text": [
            "(6666, 1)\n"
          ],
          "name": "stdout"
        }
      ]
    },
    {
      "cell_type": "code",
      "metadata": {
        "id": "OkWqISDqcjQO",
        "colab": {
          "base_uri": "https://localhost:8080/"
        },
        "outputId": "d87a701b-c3cd-4cfb-8de8-68137b7f956c"
      },
      "source": [
        "\n",
        "lr_cv(original_pipeline, 'macro')\n"
      ],
      "execution_count": null,
      "outputs": [
        {
          "output_type": "stream",
          "text": [
            "              negative    neutral     positive\n",
            "precision: [0.58762887 0.77536232 0.92114695 0.97241379 0.96688742]\n",
            "recall:    [0.59685864 0.79455446 0.92779783 0.87037037 0.97333333]\n",
            "f1 score:  [0.59220779 0.78484108 0.92446043 0.91856678 0.97009967]\n",
            "--------------------------------------------------\n",
            "accuracy: 84.33% (+/- 0.00%)\n",
            "precision: 84.47% (+/- 0.00%)\n",
            "recall: 83.26% (+/- 0.00%)\n",
            "f1 score: 83.80% (+/- 0.00%)\n",
            "[[114  58  13   1   5]\n",
            " [ 73 321   7   1   2]\n",
            " [  0  16 257   2   2]\n",
            " [  5  13   2 141   1]\n",
            " [  2   6   0   0 292]]\n",
            "              precision    recall  f1-score   support\n",
            "\n",
            " health risk       0.59      0.60      0.59       191\n",
            "  prevention       0.78      0.79      0.78       404\n",
            "    symptoms       0.92      0.93      0.92       277\n",
            "transmission       0.97      0.87      0.92       162\n",
            "   treatment       0.97      0.97      0.97       300\n",
            "\n",
            "    accuracy                           0.84      1334\n",
            "   macro avg       0.84      0.83      0.84      1334\n",
            "weighted avg       0.85      0.84      0.84      1334\n",
            "\n"
          ],
          "name": "stdout"
        }
      ]
    },
    {
      "cell_type": "markdown",
      "metadata": {
        "id": "QgQdBVh4flyi"
      },
      "source": [
        "**RandomOverSampler**"
      ]
    },
    {
      "cell_type": "code",
      "metadata": {
        "id": "G_okVtEycjUi"
      },
      "source": [
        "from imblearn.pipeline import make_pipeline\n",
        "from imblearn.over_sampling import ADASYN, SMOTE, RandomOverSampler\n",
        "\n",
        "ROS_pipeline = make_pipeline(tvec,RandomOverSampler(random_state=777),lr)\n",
        "SMOTE_pipeline = make_pipeline(tvec,SMOTE(random_state=777),lr)\n",
        "ADASYN_pipeline = make_pipeline(tvec,ADASYN(ratio='minority',random_state=777),lr)"
      ],
      "execution_count": null,
      "outputs": []
    },
    {
      "cell_type": "code",
      "metadata": {
        "id": "Y4ehwBqBcjZC"
      },
      "source": [
        "'''\n",
        "sent1 = \"I love dogs\"\n",
        "sent2 = \"I don't like dogs\"\n",
        "sent3 = \"I adore cats\"\n",
        "sent4 = \"I hate spiders\"\n",
        "sent5 = \"I like dogs\"\n",
        "testing_text = pd.Series([sent1, sent2, sent3, sent4, sent5])\n",
        "testing_target = pd.Series([1,0,1,0,1])\n",
        "'''"
      ],
      "execution_count": null,
      "outputs": []
    },
    {
      "cell_type": "code",
      "metadata": {
        "id": "6RUDwm8sTT1N"
      },
      "source": [
        "'''\n",
        "tv = TfidfVectorizer(stop_words=None, max_features=100000)\n",
        "testing_tfidf = tv.fit_transform(testing_text)\n",
        "'''"
      ],
      "execution_count": null,
      "outputs": []
    },
    {
      "cell_type": "code",
      "metadata": {
        "id": "4Pejm4mOgrDo"
      },
      "source": [
        "'''\n",
        "ros = RandomOverSampler(random_state=777)\n",
        "X_ROS, y_ROS = ros.fit_sample(testing_tfidf, testing_target)\n",
        "'''"
      ],
      "execution_count": null,
      "outputs": []
    },
    {
      "cell_type": "code",
      "metadata": {
        "id": "GPu3uiJGgrPV"
      },
      "source": [
        "'''\n",
        "pd.DataFrame(testing_tfidf.todense(), columns=tv.get_feature_names())\n",
        "'''"
      ],
      "execution_count": null,
      "outputs": []
    },
    {
      "cell_type": "code",
      "metadata": {
        "id": "tTapQizYgrZD"
      },
      "source": [
        "'''\n",
        "pd.DataFrame(X_ROS.todense(), columns=tv.get_feature_names())\n",
        "'''"
      ],
      "execution_count": null,
      "outputs": []
    },
    {
      "cell_type": "code",
      "metadata": {
        "id": "DCb1iOq4hQUk",
        "colab": {
          "base_uri": "https://localhost:8080/",
          "height": 35
        },
        "outputId": "960d43c6-d59a-491f-efd1-867b2ab0e477"
      },
      "source": [
        "#y_ROS"
      ],
      "execution_count": null,
      "outputs": [
        {
          "output_type": "execute_result",
          "data": {
            "text/plain": [
              "array([1, 0, 1, 0, 1, 0])"
            ]
          },
          "metadata": {
            "tags": []
          },
          "execution_count": 89
        }
      ]
    },
    {
      "cell_type": "code",
      "metadata": {
        "id": "Pt2qI3kGhQYC",
        "colab": {
          "base_uri": "https://localhost:8080/"
        },
        "outputId": "ce077456-2daf-4db6-e6a7-d856534637a1"
      },
      "source": [
        "lr_cv( ROS_pipeline, 'macro')\n"
      ],
      "execution_count": null,
      "outputs": [
        {
          "output_type": "stream",
          "text": [
            "/usr/local/lib/python3.6/dist-packages/sklearn/utils/deprecation.py:87: FutureWarning: Function safe_indexing is deprecated; safe_indexing is deprecated in version 0.22 and will be removed in version 0.24.\n",
            "  warnings.warn(msg, category=FutureWarning)\n",
            "/usr/local/lib/python3.6/dist-packages/sklearn/linear_model/_logistic.py:940: ConvergenceWarning: lbfgs failed to converge (status=1):\n",
            "STOP: TOTAL NO. of ITERATIONS REACHED LIMIT.\n",
            "\n",
            "Increase the number of iterations (max_iter) or scale the data as shown in:\n",
            "    https://scikit-learn.org/stable/modules/preprocessing.html\n",
            "Please also refer to the documentation for alternative solver options:\n",
            "    https://scikit-learn.org/stable/modules/linear_model.html#logistic-regression\n",
            "  extra_warning_msg=_LOGISTIC_SOLVER_CONVERGENCE_MSG)\n"
          ],
          "name": "stderr"
        },
        {
          "output_type": "stream",
          "text": [
            "              negative    neutral     positive\n",
            "precision: [0.56870229 0.87463557 0.93140794 0.96052632 0.97666667]\n",
            "recall:    [0.78010471 0.74257426 0.93140794 0.90123457 0.97666667]\n",
            "f1 score:  [0.65783664 0.80321285 0.93140794 0.92993631 0.97666667]\n",
            "--------------------------------------------------\n",
            "accuracy: 85.91% (+/- 0.00%)\n",
            "precision: 86.24% (+/- 0.00%)\n",
            "recall: 86.64% (+/- 0.00%)\n",
            "f1 score: 85.98% (+/- 0.00%)\n",
            "[[149  28   9   2   3]\n",
            " [ 92 300   8   2   2]\n",
            " [  8   7 258   2   2]\n",
            " [  9   5   2 146   0]\n",
            " [  4   3   0   0 293]]\n",
            "              precision    recall  f1-score   support\n",
            "\n",
            " health risk       0.57      0.78      0.66       191\n",
            "  prevention       0.87      0.74      0.80       404\n",
            "    symptoms       0.93      0.93      0.93       277\n",
            "transmission       0.96      0.90      0.93       162\n",
            "   treatment       0.98      0.98      0.98       300\n",
            "\n",
            "    accuracy                           0.86      1334\n",
            "   macro avg       0.86      0.87      0.86      1334\n",
            "weighted avg       0.88      0.86      0.86      1334\n",
            "\n"
          ],
          "name": "stdout"
        }
      ]
    },
    {
      "cell_type": "code",
      "metadata": {
        "id": "FnrY23U1N75Z",
        "colab": {
          "base_uri": "https://localhost:8080/",
          "height": 218
        },
        "outputId": "4f695f99-1f63-4d08-b7bf-7f76e295e1d7"
      },
      "source": [
        "df.text"
      ],
      "execution_count": null,
      "outputs": [
        {
          "output_type": "execute_result",
          "data": {
            "text/plain": [
              "0        large gathering limits placed sacramento pray...\n",
              "1        novel coronavirus infection conducted test ci...\n",
              "2        recent mania overtreating high blood pressure...\n",
              "3        yll would blame bron fires cali global warmin...\n",
              "4       07222020 indian slum contained possible covid ...\n",
              "                              ...                        \n",
              "6653         zero hedge reports approved covid 19 vaccine\n",
              "6654    zimbabwean businessman strive masiyiwa donated...\n",
              "6655    zones plasma therapy critical covid patients h...\n",
              "6656    zoom fatigue new normal uncertain times overco...\n",
              "6657    zoom fatigue plays important role affecting me...\n",
              "Name: text, Length: 6658, dtype: object"
            ]
          },
          "metadata": {
            "tags": []
          },
          "execution_count": 20
        }
      ]
    },
    {
      "cell_type": "markdown",
      "metadata": {
        "id": "mqCTRsZkjhPt"
      },
      "source": [
        "**SMOTE**"
      ]
    },
    {
      "cell_type": "code",
      "metadata": {
        "id": "_BL39coMhQbv",
        "colab": {
          "base_uri": "https://localhost:8080/",
          "height": 195
        },
        "outputId": "f5ffa0ba-667c-493d-e50b-a36f219ba859"
      },
      "source": [
        "smt = SMOTE(random_state=777, k_neighbors=1)\n",
        "X_SMOTE, y_SMOTE = smt.fit_sample(testing_tfidf, testing_target)\n",
        "pd.DataFrame(X_SMOTE.todense(), columns=tv.get_feature_names())"
      ],
      "execution_count": null,
      "outputs": [
        {
          "output_type": "error",
          "ename": "NameError",
          "evalue": "ignored",
          "traceback": [
            "\u001b[0;31m---------------------------------------------------------------------------\u001b[0m",
            "\u001b[0;31mNameError\u001b[0m                                 Traceback (most recent call last)",
            "\u001b[0;32m<ipython-input-59-2e727199fe94>\u001b[0m in \u001b[0;36m<module>\u001b[0;34m()\u001b[0m\n\u001b[1;32m      1\u001b[0m \u001b[0msmt\u001b[0m \u001b[0;34m=\u001b[0m \u001b[0mSMOTE\u001b[0m\u001b[0;34m(\u001b[0m\u001b[0mrandom_state\u001b[0m\u001b[0;34m=\u001b[0m\u001b[0;36m777\u001b[0m\u001b[0;34m,\u001b[0m \u001b[0mk_neighbors\u001b[0m\u001b[0;34m=\u001b[0m\u001b[0;36m1\u001b[0m\u001b[0;34m)\u001b[0m\u001b[0;34m\u001b[0m\u001b[0;34m\u001b[0m\u001b[0m\n\u001b[0;32m----> 2\u001b[0;31m \u001b[0mX_SMOTE\u001b[0m\u001b[0;34m,\u001b[0m \u001b[0my_SMOTE\u001b[0m \u001b[0;34m=\u001b[0m \u001b[0msmt\u001b[0m\u001b[0;34m.\u001b[0m\u001b[0mfit_sample\u001b[0m\u001b[0;34m(\u001b[0m\u001b[0mtesting_tfidf\u001b[0m\u001b[0;34m,\u001b[0m \u001b[0mtesting_target\u001b[0m\u001b[0;34m)\u001b[0m\u001b[0;34m\u001b[0m\u001b[0;34m\u001b[0m\u001b[0m\n\u001b[0m\u001b[1;32m      3\u001b[0m \u001b[0mpd\u001b[0m\u001b[0;34m.\u001b[0m\u001b[0mDataFrame\u001b[0m\u001b[0;34m(\u001b[0m\u001b[0mX_SMOTE\u001b[0m\u001b[0;34m.\u001b[0m\u001b[0mtodense\u001b[0m\u001b[0;34m(\u001b[0m\u001b[0;34m)\u001b[0m\u001b[0;34m,\u001b[0m \u001b[0mcolumns\u001b[0m\u001b[0;34m=\u001b[0m\u001b[0mtv\u001b[0m\u001b[0;34m.\u001b[0m\u001b[0mget_feature_names\u001b[0m\u001b[0;34m(\u001b[0m\u001b[0;34m)\u001b[0m\u001b[0;34m)\u001b[0m\u001b[0;34m\u001b[0m\u001b[0;34m\u001b[0m\u001b[0m\n",
            "\u001b[0;31mNameError\u001b[0m: name 'testing_tfidf' is not defined"
          ]
        }
      ]
    },
    {
      "cell_type": "code",
      "metadata": {
        "id": "KHwss8SlhQfH"
      },
      "source": [
        "\n",
        "pd.DataFrame(X_SMOTE.todense()[y_SMOTE == 0], columns=tv.get_feature_names())\n"
      ],
      "execution_count": null,
      "outputs": []
    },
    {
      "cell_type": "code",
      "metadata": {
        "id": "SgkzvpXUhQi_",
        "colab": {
          "base_uri": "https://localhost:8080/"
        },
        "outputId": "2c623f3d-caee-4e45-8810-a13cb5da7bfe"
      },
      "source": [
        "lr_cv(SMOTE_pipeline, 'macro')"
      ],
      "execution_count": null,
      "outputs": [
        {
          "output_type": "stream",
          "text": [
            "/usr/local/lib/python3.6/dist-packages/sklearn/utils/deprecation.py:87: FutureWarning: Function safe_indexing is deprecated; safe_indexing is deprecated in version 0.22 and will be removed in version 0.24.\n",
            "  warnings.warn(msg, category=FutureWarning)\n",
            "/usr/local/lib/python3.6/dist-packages/sklearn/linear_model/_logistic.py:940: ConvergenceWarning: lbfgs failed to converge (status=1):\n",
            "STOP: TOTAL NO. of ITERATIONS REACHED LIMIT.\n",
            "\n",
            "Increase the number of iterations (max_iter) or scale the data as shown in:\n",
            "    https://scikit-learn.org/stable/modules/preprocessing.html\n",
            "Please also refer to the documentation for alternative solver options:\n",
            "    https://scikit-learn.org/stable/modules/linear_model.html#logistic-regression\n",
            "  extra_warning_msg=_LOGISTIC_SOLVER_CONVERGENCE_MSG)\n"
          ],
          "name": "stderr"
        },
        {
          "output_type": "stream",
          "text": [
            "              negative    neutral     positive\n",
            "precision: [0.57258065 0.86039886 0.90877193 0.97315436 0.97009967]\n",
            "recall:    [0.7434555  0.74752475 0.93501805 0.89506173 0.97333333]\n",
            "f1 score:  [0.64692483 0.8        0.92170819 0.93247588 0.97171381]\n",
            "--------------------------------------------------\n",
            "accuracy: 85.46% (+/- 0.00%)\n",
            "precision: 85.70% (+/- 0.00%)\n",
            "recall: 85.89% (+/- 0.00%)\n",
            "f1 score: 85.46% (+/- 0.00%)\n",
            "[[142  29  14   1   5]\n",
            " [ 89 302  10   1   2]\n",
            " [  5   9 259   2   2]\n",
            " [  8   7   2 145   0]\n",
            " [  4   4   0   0 292]]\n",
            "              precision    recall  f1-score   support\n",
            "\n",
            " health risk       0.57      0.74      0.65       191\n",
            "  prevention       0.86      0.75      0.80       404\n",
            "    symptoms       0.91      0.94      0.92       277\n",
            "transmission       0.97      0.90      0.93       162\n",
            "   treatment       0.97      0.97      0.97       300\n",
            "\n",
            "    accuracy                           0.85      1334\n",
            "   macro avg       0.86      0.86      0.85      1334\n",
            "weighted avg       0.87      0.85      0.86      1334\n",
            "\n"
          ],
          "name": "stdout"
        }
      ]
    },
    {
      "cell_type": "markdown",
      "metadata": {
        "id": "wjfwxzWik2r3"
      },
      "source": [
        "**ADASYN**"
      ]
    },
    {
      "cell_type": "code",
      "metadata": {
        "id": "vqc3GerrhQxm",
        "colab": {
          "base_uri": "https://localhost:8080/"
        },
        "outputId": "78f38885-b74c-435c-ef2a-0c97a4fcd339"
      },
      "source": [
        "lr_cv(  ADASYN_pipeline, 'macro')\n"
      ],
      "execution_count": null,
      "outputs": [
        {
          "output_type": "stream",
          "text": [
            "/usr/local/lib/python3.6/dist-packages/sklearn/utils/deprecation.py:87: FutureWarning: Function safe_indexing is deprecated; safe_indexing is deprecated in version 0.22 and will be removed in version 0.24.\n",
            "  warnings.warn(msg, category=FutureWarning)\n"
          ],
          "name": "stderr"
        },
        {
          "output_type": "stream",
          "text": [
            "              negative    neutral     positive\n",
            "precision: [0.59685864 0.78869779 0.92114695 0.95512821 0.97009967]\n",
            "recall:    [0.59685864 0.79455446 0.92779783 0.91975309 0.97333333]\n",
            "f1 score:  [0.59685864 0.79161529 0.92446043 0.93710692 0.97171381]\n",
            "--------------------------------------------------\n",
            "accuracy: 84.93% (+/- 0.00%)\n",
            "precision: 84.64% (+/- 0.00%)\n",
            "recall: 84.25% (+/- 0.00%)\n",
            "f1 score: 84.44% (+/- 0.00%)\n",
            "[[114  56  14   2   5]\n",
            " [ 71 321   7   3   2]\n",
            " [  0  16 257   2   2]\n",
            " [  4   8   1 149   0]\n",
            " [  2   6   0   0 292]]\n",
            "              precision    recall  f1-score   support\n",
            "\n",
            " health risk       0.60      0.60      0.60       191\n",
            "  prevention       0.79      0.79      0.79       404\n",
            "    symptoms       0.92      0.93      0.92       277\n",
            "transmission       0.96      0.92      0.94       162\n",
            "   treatment       0.97      0.97      0.97       300\n",
            "\n",
            "    accuracy                           0.85      1334\n",
            "   macro avg       0.85      0.84      0.84      1334\n",
            "weighted avg       0.85      0.85      0.85      1334\n",
            "\n"
          ],
          "name": "stdout"
        }
      ]
    },
    {
      "cell_type": "code",
      "metadata": {
        "id": "p_Phu25zhQ5S"
      },
      "source": [
        "SMOTE CF\n",
        "[[149  28   7   3   8]\n",
        " [ 90 299  12   6   2]\n",
        " [  2  10 263   2   2]\n",
        " [  2   5   2 151   0]\n",
        " [  3   4   1   2 278]]"
      ],
      "execution_count": null,
      "outputs": []
    }
  ]
}