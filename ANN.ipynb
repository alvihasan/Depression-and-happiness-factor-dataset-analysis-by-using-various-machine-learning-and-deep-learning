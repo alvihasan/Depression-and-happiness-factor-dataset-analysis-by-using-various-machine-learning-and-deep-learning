{
  "nbformat": 4,
  "nbformat_minor": 0,
  "metadata": {
    "colab": {
      "name": "ANN_lab_05.ipynb",
      "provenance": [],
      "collapsed_sections": []
    },
    "kernelspec": {
      "name": "python3",
      "display_name": "Python 3"
    }
  },
  "cells": [
    {
      "cell_type": "code",
      "metadata": {
        "id": "3FLgwm_wPvPr"
      },
      "source": [
        "import pandas as pd\n",
        "from sklearn.model_selection import train_test_split # Import train_test_split function\n",
        "from sklearn import metrics #Import scikit-learn metrics module for accuracy calculation\n",
        "from sklearn.preprocessing import LabelEncoder\n",
        "from sklearn.metrics import classification_report"
      ],
      "execution_count": null,
      "outputs": []
    },
    {
      "cell_type": "code",
      "metadata": {
        "id": "HfKC8Ekj1eP-"
      },
      "source": [
        "col_names = ['timestamp', 'acade-year', 'label', 'scale', 'gender', 'age', 'where', 'status', 'finan', 'copeup', 'fam', 'pressure', 'result', 'livingplace', 'support', 'smedia', 'infer', 'meal', 'sick', 'hobby', 'sleep']\n",
        "# load dataset\n",
        "depression = pd.read_csv(\"depression_dataset.csv\",names=col_names)"
      ],
      "execution_count": null,
      "outputs": []
    },
    {
      "cell_type": "code",
      "metadata": {
        "id": "QJjQxXBB1_wH"
      },
      "source": [
        "depression.drop([0], axis=0, inplace=True)\n",
        "depression.drop(['timestamp'], axis=1, inplace=True)\n",
        "# depression.head()"
      ],
      "execution_count": null,
      "outputs": []
    },
    {
      "cell_type": "code",
      "metadata": {
        "colab": {
          "base_uri": "https://localhost:8080/",
          "height": 239
        },
        "id": "NQT6wuun2BNl",
        "outputId": "36694f02-da53-4938-f93c-ad054b31b924"
      },
      "source": [
        "dataset_encoded=depression.iloc[:,0:20]\n",
        "\n",
        "le=LabelEncoder()\n",
        "\n",
        "for i in dataset_encoded:\n",
        "    dataset_encoded[i]=le.fit_transform(dataset_encoded[i])\n",
        "\n",
        "dataset_encoded.head()"
      ],
      "execution_count": null,
      "outputs": [
        {
          "output_type": "execute_result",
          "data": {
            "text/html": [
              "<div>\n",
              "<style scoped>\n",
              "    .dataframe tbody tr th:only-of-type {\n",
              "        vertical-align: middle;\n",
              "    }\n",
              "\n",
              "    .dataframe tbody tr th {\n",
              "        vertical-align: top;\n",
              "    }\n",
              "\n",
              "    .dataframe thead th {\n",
              "        text-align: right;\n",
              "    }\n",
              "</style>\n",
              "<table border=\"1\" class=\"dataframe\">\n",
              "  <thead>\n",
              "    <tr style=\"text-align: right;\">\n",
              "      <th></th>\n",
              "      <th>acade-year</th>\n",
              "      <th>label</th>\n",
              "      <th>scale</th>\n",
              "      <th>gender</th>\n",
              "      <th>age</th>\n",
              "      <th>where</th>\n",
              "      <th>status</th>\n",
              "      <th>finan</th>\n",
              "      <th>copeup</th>\n",
              "      <th>fam</th>\n",
              "      <th>pressure</th>\n",
              "      <th>result</th>\n",
              "      <th>livingplace</th>\n",
              "      <th>support</th>\n",
              "      <th>smedia</th>\n",
              "      <th>infer</th>\n",
              "      <th>meal</th>\n",
              "      <th>sick</th>\n",
              "      <th>hobby</th>\n",
              "      <th>sleep</th>\n",
              "    </tr>\n",
              "  </thead>\n",
              "  <tbody>\n",
              "    <tr>\n",
              "      <th>1</th>\n",
              "      <td>3</td>\n",
              "      <td>2</td>\n",
              "      <td>27</td>\n",
              "      <td>0</td>\n",
              "      <td>3</td>\n",
              "      <td>2</td>\n",
              "      <td>0</td>\n",
              "      <td>1</td>\n",
              "      <td>2</td>\n",
              "      <td>0</td>\n",
              "      <td>1</td>\n",
              "      <td>0</td>\n",
              "      <td>1</td>\n",
              "      <td>0</td>\n",
              "      <td>2</td>\n",
              "      <td>3</td>\n",
              "      <td>2</td>\n",
              "      <td>0</td>\n",
              "      <td>0</td>\n",
              "      <td>4</td>\n",
              "    </tr>\n",
              "    <tr>\n",
              "      <th>2</th>\n",
              "      <td>3</td>\n",
              "      <td>1</td>\n",
              "      <td>31</td>\n",
              "      <td>0</td>\n",
              "      <td>3</td>\n",
              "      <td>2</td>\n",
              "      <td>0</td>\n",
              "      <td>1</td>\n",
              "      <td>2</td>\n",
              "      <td>1</td>\n",
              "      <td>1</td>\n",
              "      <td>0</td>\n",
              "      <td>1</td>\n",
              "      <td>0</td>\n",
              "      <td>0</td>\n",
              "      <td>1</td>\n",
              "      <td>2</td>\n",
              "      <td>1</td>\n",
              "      <td>0</td>\n",
              "      <td>2</td>\n",
              "    </tr>\n",
              "    <tr>\n",
              "      <th>3</th>\n",
              "      <td>1</td>\n",
              "      <td>0</td>\n",
              "      <td>6</td>\n",
              "      <td>0</td>\n",
              "      <td>3</td>\n",
              "      <td>2</td>\n",
              "      <td>0</td>\n",
              "      <td>1</td>\n",
              "      <td>1</td>\n",
              "      <td>1</td>\n",
              "      <td>1</td>\n",
              "      <td>0</td>\n",
              "      <td>0</td>\n",
              "      <td>2</td>\n",
              "      <td>2</td>\n",
              "      <td>3</td>\n",
              "      <td>2</td>\n",
              "      <td>1</td>\n",
              "      <td>1</td>\n",
              "      <td>2</td>\n",
              "    </tr>\n",
              "    <tr>\n",
              "      <th>4</th>\n",
              "      <td>2</td>\n",
              "      <td>0</td>\n",
              "      <td>6</td>\n",
              "      <td>0</td>\n",
              "      <td>3</td>\n",
              "      <td>2</td>\n",
              "      <td>0</td>\n",
              "      <td>1</td>\n",
              "      <td>0</td>\n",
              "      <td>0</td>\n",
              "      <td>1</td>\n",
              "      <td>2</td>\n",
              "      <td>0</td>\n",
              "      <td>0</td>\n",
              "      <td>2</td>\n",
              "      <td>3</td>\n",
              "      <td>2</td>\n",
              "      <td>1</td>\n",
              "      <td>1</td>\n",
              "      <td>2</td>\n",
              "    </tr>\n",
              "    <tr>\n",
              "      <th>5</th>\n",
              "      <td>0</td>\n",
              "      <td>2</td>\n",
              "      <td>16</td>\n",
              "      <td>0</td>\n",
              "      <td>3</td>\n",
              "      <td>2</td>\n",
              "      <td>0</td>\n",
              "      <td>1</td>\n",
              "      <td>2</td>\n",
              "      <td>0</td>\n",
              "      <td>1</td>\n",
              "      <td>0</td>\n",
              "      <td>1</td>\n",
              "      <td>2</td>\n",
              "      <td>2</td>\n",
              "      <td>3</td>\n",
              "      <td>2</td>\n",
              "      <td>1</td>\n",
              "      <td>1</td>\n",
              "      <td>2</td>\n",
              "    </tr>\n",
              "  </tbody>\n",
              "</table>\n",
              "</div>"
            ],
            "text/plain": [
              "   acade-year  label  scale  gender  age  ...  infer  meal  sick  hobby  sleep\n",
              "1           3      2     27       0    3  ...      3     2     0      0      4\n",
              "2           3      1     31       0    3  ...      1     2     1      0      2\n",
              "3           1      0      6       0    3  ...      3     2     1      1      2\n",
              "4           2      0      6       0    3  ...      3     2     1      1      2\n",
              "5           0      2     16       0    3  ...      3     2     1      1      2\n",
              "\n",
              "[5 rows x 20 columns]"
            ]
          },
          "metadata": {},
          "execution_count": 7
        }
      ]
    },
    {
      "cell_type": "code",
      "metadata": {
        "id": "AKAKTKfM2Hzw"
      },
      "source": [
        "feature_cols = ['acade-year', 'scale', 'gender', 'age', 'where', 'status', 'finan', 'copeup', 'fam', 'pressure', 'result', 'livingplace', 'support', 'smedia', 'infer', 'meal', 'sick', 'hobby', 'sleep']\n",
        "X = dataset_encoded[feature_cols] # Features\n",
        "y = dataset_encoded.label # Target variable"
      ],
      "execution_count": null,
      "outputs": []
    },
    {
      "cell_type": "code",
      "metadata": {
        "id": "9V2a_CXeHjOH"
      },
      "source": [
        "one_hot = pd.get_dummies(y)"
      ],
      "execution_count": null,
      "outputs": []
    },
    {
      "cell_type": "code",
      "metadata": {
        "colab": {
          "base_uri": "https://localhost:8080/"
        },
        "id": "TmuFU7soHtyZ",
        "outputId": "ff7fc784-101a-4323-950b-35899f215b65"
      },
      "source": [
        "one_hot.shape"
      ],
      "execution_count": null,
      "outputs": [
        {
          "output_type": "execute_result",
          "data": {
            "text/plain": [
              "(1007, 5)"
            ]
          },
          "metadata": {},
          "execution_count": 10
        }
      ]
    },
    {
      "cell_type": "code",
      "metadata": {
        "id": "8CN9ZTFT2PEH"
      },
      "source": [
        "X_train, X_test, y_train, y_test = train_test_split(X, one_hot, test_size=0.2, random_state=42)"
      ],
      "execution_count": null,
      "outputs": []
    },
    {
      "cell_type": "code",
      "metadata": {
        "colab": {
          "base_uri": "https://localhost:8080/"
        },
        "id": "8gNc-zRjD9Ih",
        "outputId": "743e11db-4f5b-46d5-c4ae-1f526ca30def"
      },
      "source": [
        "X_train.shape"
      ],
      "execution_count": null,
      "outputs": [
        {
          "output_type": "execute_result",
          "data": {
            "text/plain": [
              "(805, 19)"
            ]
          },
          "metadata": {},
          "execution_count": 12
        }
      ]
    },
    {
      "cell_type": "code",
      "metadata": {
        "colab": {
          "base_uri": "https://localhost:8080/"
        },
        "id": "epbqK_FgCdrn",
        "outputId": "e3ecd8ae-ebad-4fe4-b41a-f3d682605510"
      },
      "source": [
        "y_train.shape"
      ],
      "execution_count": null,
      "outputs": [
        {
          "output_type": "execute_result",
          "data": {
            "text/plain": [
              "(805, 5)"
            ]
          },
          "metadata": {},
          "execution_count": 13
        }
      ]
    },
    {
      "cell_type": "code",
      "metadata": {
        "colab": {
          "base_uri": "https://localhost:8080/",
          "height": 17
        },
        "id": "qnzFU4Xy2Wo5",
        "outputId": "65ddae26-6005-4d74-fe05-567314e36518"
      },
      "source": [
        "from tensorflow import keras\n",
        "import numpy as np \n",
        "import pandas as pd\n",
        "import matplotlib.pyplot as plt\n",
        "import seaborn as sns\n",
        "from keras.preprocessing.text import Tokenizer\n",
        "from keras.preprocessing.sequence import pad_sequences\n",
        "from keras.models import Sequential\n",
        "from keras.layers import Dense, Embedding, LSTM, SpatialDropout1D\n",
        "from sklearn.model_selection import train_test_split\n",
        "from keras.utils.np_utils import to_categorical\n",
        "from keras.callbacks import EarlyStopping\n",
        "from keras.layers import Dropout\n",
        "import re\n",
        "from nltk.corpus import stopwords\n",
        "from nltk import word_tokenize\n",
        "from bs4 import BeautifulSoup\n",
        "import plotly.graph_objs as go\n",
        "import cufflinks\n",
        "from IPython.core.interactiveshell import InteractiveShell\n",
        "import plotly.figure_factory as ff\n",
        "InteractiveShell.ast_node_interactivity = 'all'\n",
        "from plotly.offline import iplot\n",
        "cufflinks.go_offline()\n",
        "cufflinks.set_config_file(world_readable=True, theme='pearl')"
      ],
      "execution_count": null,
      "outputs": [
        {
          "output_type": "display_data",
          "data": {
            "text/html": [
              "        <script type=\"text/javascript\">\n",
              "        window.PlotlyConfig = {MathJaxConfig: 'local'};\n",
              "        if (window.MathJax) {MathJax.Hub.Config({SVG: {font: \"STIX-Web\"}});}\n",
              "        if (typeof require !== 'undefined') {\n",
              "        require.undef(\"plotly\");\n",
              "        requirejs.config({\n",
              "            paths: {\n",
              "                'plotly': ['https://cdn.plot.ly/plotly-latest.min']\n",
              "            }\n",
              "        });\n",
              "        require(['plotly'], function(Plotly) {\n",
              "            window._Plotly = Plotly;\n",
              "        });\n",
              "        }\n",
              "        </script>\n",
              "        "
            ]
          },
          "metadata": {}
        }
      ]
    },
    {
      "cell_type": "code",
      "metadata": {
        "colab": {
          "base_uri": "https://localhost:8080/"
        },
        "id": "IzdfArbMAkMW",
        "outputId": "05665015-1711-4153-f3af-bbe352157168"
      },
      "source": [
        "model = Sequential()\n",
        "\n",
        "model.add(Dense(16, input_dim=19, activation=\"relu\"))\n",
        "\n",
        "model.add(Dense(16,  activation=\"relu\"))\n",
        "model.add(Dense(16,  activation=\"relu\"))\n",
        "model.add(Dense(16,  activation=\"relu\"))\n",
        "\n",
        "model.add(Dense(5, activation=\"softmax\"))\n",
        "model.compile(loss='categorical_crossentropy', optimizer='adam', metrics=['accuracy'])\n",
        "model.summary()"
      ],
      "execution_count": null,
      "outputs": [
        {
          "output_type": "stream",
          "name": "stdout",
          "text": [
            "Model: \"sequential\"\n",
            "_________________________________________________________________\n",
            "Layer (type)                 Output Shape              Param #   \n",
            "=================================================================\n",
            "dense (Dense)                (None, 16)                320       \n",
            "_________________________________________________________________\n",
            "dense_1 (Dense)              (None, 16)                272       \n",
            "_________________________________________________________________\n",
            "dense_2 (Dense)              (None, 16)                272       \n",
            "_________________________________________________________________\n",
            "dense_3 (Dense)              (None, 16)                272       \n",
            "_________________________________________________________________\n",
            "dense_4 (Dense)              (None, 5)                 85        \n",
            "=================================================================\n",
            "Total params: 1,221\n",
            "Trainable params: 1,221\n",
            "Non-trainable params: 0\n",
            "_________________________________________________________________\n"
          ]
        }
      ]
    },
    {
      "cell_type": "code",
      "metadata": {
        "colab": {
          "base_uri": "https://localhost:8080/"
        },
        "id": "BWB1GZEE4LNX",
        "outputId": "e7275632-2d94-4d40-c637-2b24cb53c46d"
      },
      "source": [
        "model_result = model.fit(X_train, y_train, epochs=100, validation_split=0.2)"
      ],
      "execution_count": null,
      "outputs": [
        {
          "output_type": "stream",
          "name": "stdout",
          "text": [
            "Epoch 1/100\n",
            "21/21 [==============================] - 1s 16ms/step - loss: 1.9483 - accuracy: 0.2438 - val_loss: 1.5629 - val_accuracy: 0.2236\n",
            "Epoch 2/100\n",
            "21/21 [==============================] - 0s 3ms/step - loss: 1.4019 - accuracy: 0.2748 - val_loss: 1.2634 - val_accuracy: 0.5404\n",
            "Epoch 3/100\n",
            "21/21 [==============================] - 0s 3ms/step - loss: 1.1484 - accuracy: 0.4255 - val_loss: 1.1188 - val_accuracy: 0.5342\n",
            "Epoch 4/100\n",
            "21/21 [==============================] - 0s 3ms/step - loss: 0.9953 - accuracy: 0.6475 - val_loss: 1.0094 - val_accuracy: 0.6584\n",
            "Epoch 5/100\n",
            "21/21 [==============================] - 0s 3ms/step - loss: 0.8816 - accuracy: 0.7252 - val_loss: 0.9033 - val_accuracy: 0.8571\n",
            "Epoch 6/100\n",
            "21/21 [==============================] - 0s 3ms/step - loss: 0.7563 - accuracy: 0.7950 - val_loss: 0.7770 - val_accuracy: 0.8261\n",
            "Epoch 7/100\n",
            "21/21 [==============================] - 0s 4ms/step - loss: 0.6313 - accuracy: 0.8339 - val_loss: 0.6496 - val_accuracy: 0.8137\n",
            "Epoch 8/100\n",
            "21/21 [==============================] - 0s 4ms/step - loss: 0.5238 - accuracy: 0.8354 - val_loss: 0.5734 - val_accuracy: 0.8758\n",
            "Epoch 9/100\n",
            "21/21 [==============================] - 0s 3ms/step - loss: 0.4452 - accuracy: 0.8556 - val_loss: 0.5158 - val_accuracy: 0.8758\n",
            "Epoch 10/100\n",
            "21/21 [==============================] - 0s 4ms/step - loss: 0.3941 - accuracy: 0.8960 - val_loss: 0.4679 - val_accuracy: 0.9068\n",
            "Epoch 11/100\n",
            "21/21 [==============================] - 0s 3ms/step - loss: 0.3551 - accuracy: 0.8898 - val_loss: 0.4164 - val_accuracy: 0.9130\n",
            "Epoch 12/100\n",
            "21/21 [==============================] - 0s 3ms/step - loss: 0.3211 - accuracy: 0.9115 - val_loss: 0.3943 - val_accuracy: 0.9130\n",
            "Epoch 13/100\n",
            "21/21 [==============================] - 0s 3ms/step - loss: 0.2969 - accuracy: 0.9053 - val_loss: 0.3597 - val_accuracy: 0.9130\n",
            "Epoch 14/100\n",
            "21/21 [==============================] - 0s 3ms/step - loss: 0.2785 - accuracy: 0.9053 - val_loss: 0.3394 - val_accuracy: 0.9255\n",
            "Epoch 15/100\n",
            "21/21 [==============================] - 0s 3ms/step - loss: 0.2520 - accuracy: 0.9084 - val_loss: 0.3275 - val_accuracy: 0.9317\n",
            "Epoch 16/100\n",
            "21/21 [==============================] - 0s 3ms/step - loss: 0.2428 - accuracy: 0.9224 - val_loss: 0.3437 - val_accuracy: 0.9130\n",
            "Epoch 17/100\n",
            "21/21 [==============================] - 0s 3ms/step - loss: 0.2258 - accuracy: 0.9099 - val_loss: 0.3117 - val_accuracy: 0.9255\n",
            "Epoch 18/100\n",
            "21/21 [==============================] - 0s 4ms/step - loss: 0.2163 - accuracy: 0.9255 - val_loss: 0.2950 - val_accuracy: 0.9379\n",
            "Epoch 19/100\n",
            "21/21 [==============================] - 0s 3ms/step - loss: 0.2023 - accuracy: 0.9286 - val_loss: 0.2915 - val_accuracy: 0.9379\n",
            "Epoch 20/100\n",
            "21/21 [==============================] - 0s 3ms/step - loss: 0.1996 - accuracy: 0.9270 - val_loss: 0.3392 - val_accuracy: 0.9006\n",
            "Epoch 21/100\n",
            "21/21 [==============================] - 0s 4ms/step - loss: 0.1896 - accuracy: 0.9317 - val_loss: 0.2906 - val_accuracy: 0.9441\n",
            "Epoch 22/100\n",
            "21/21 [==============================] - 0s 4ms/step - loss: 0.1793 - accuracy: 0.9488 - val_loss: 0.2858 - val_accuracy: 0.9379\n",
            "Epoch 23/100\n",
            "21/21 [==============================] - 0s 3ms/step - loss: 0.1714 - accuracy: 0.9425 - val_loss: 0.2900 - val_accuracy: 0.9317\n",
            "Epoch 24/100\n",
            "21/21 [==============================] - 0s 4ms/step - loss: 0.1635 - accuracy: 0.9534 - val_loss: 0.2800 - val_accuracy: 0.9317\n",
            "Epoch 25/100\n",
            "21/21 [==============================] - 0s 3ms/step - loss: 0.1586 - accuracy: 0.9503 - val_loss: 0.2791 - val_accuracy: 0.9503\n",
            "Epoch 26/100\n",
            "21/21 [==============================] - 0s 3ms/step - loss: 0.1545 - accuracy: 0.9488 - val_loss: 0.2760 - val_accuracy: 0.9317\n",
            "Epoch 27/100\n",
            "21/21 [==============================] - 0s 3ms/step - loss: 0.1493 - accuracy: 0.9503 - val_loss: 0.2944 - val_accuracy: 0.9255\n",
            "Epoch 28/100\n",
            "21/21 [==============================] - 0s 3ms/step - loss: 0.1452 - accuracy: 0.9488 - val_loss: 0.2721 - val_accuracy: 0.9255\n",
            "Epoch 29/100\n",
            "21/21 [==============================] - 0s 3ms/step - loss: 0.1391 - accuracy: 0.9565 - val_loss: 0.2742 - val_accuracy: 0.9441\n",
            "Epoch 30/100\n",
            "21/21 [==============================] - 0s 4ms/step - loss: 0.1382 - accuracy: 0.9581 - val_loss: 0.2779 - val_accuracy: 0.9317\n",
            "Epoch 31/100\n",
            "21/21 [==============================] - 0s 3ms/step - loss: 0.1366 - accuracy: 0.9581 - val_loss: 0.2729 - val_accuracy: 0.9441\n",
            "Epoch 32/100\n",
            "21/21 [==============================] - 0s 3ms/step - loss: 0.1472 - accuracy: 0.9488 - val_loss: 0.2742 - val_accuracy: 0.9379\n",
            "Epoch 33/100\n",
            "21/21 [==============================] - 0s 3ms/step - loss: 0.1374 - accuracy: 0.9534 - val_loss: 0.2647 - val_accuracy: 0.9379\n",
            "Epoch 34/100\n",
            "21/21 [==============================] - 0s 4ms/step - loss: 0.1450 - accuracy: 0.9534 - val_loss: 0.2920 - val_accuracy: 0.9317\n",
            "Epoch 35/100\n",
            "21/21 [==============================] - 0s 3ms/step - loss: 0.1327 - accuracy: 0.9581 - val_loss: 0.2994 - val_accuracy: 0.9379\n",
            "Epoch 36/100\n",
            "21/21 [==============================] - 0s 3ms/step - loss: 0.1203 - accuracy: 0.9627 - val_loss: 0.3067 - val_accuracy: 0.9317\n",
            "Epoch 37/100\n",
            "21/21 [==============================] - 0s 4ms/step - loss: 0.1133 - accuracy: 0.9674 - val_loss: 0.2672 - val_accuracy: 0.9379\n",
            "Epoch 38/100\n",
            "21/21 [==============================] - 0s 3ms/step - loss: 0.1282 - accuracy: 0.9565 - val_loss: 0.3001 - val_accuracy: 0.9379\n",
            "Epoch 39/100\n",
            "21/21 [==============================] - 0s 4ms/step - loss: 0.1366 - accuracy: 0.9488 - val_loss: 0.2740 - val_accuracy: 0.9441\n",
            "Epoch 40/100\n",
            "21/21 [==============================] - 0s 3ms/step - loss: 0.1194 - accuracy: 0.9565 - val_loss: 0.2683 - val_accuracy: 0.9441\n",
            "Epoch 41/100\n",
            "21/21 [==============================] - 0s 3ms/step - loss: 0.1081 - accuracy: 0.9674 - val_loss: 0.2684 - val_accuracy: 0.9503\n",
            "Epoch 42/100\n",
            "21/21 [==============================] - 0s 3ms/step - loss: 0.1075 - accuracy: 0.9674 - val_loss: 0.2826 - val_accuracy: 0.9441\n",
            "Epoch 43/100\n",
            "21/21 [==============================] - 0s 3ms/step - loss: 0.1057 - accuracy: 0.9643 - val_loss: 0.2690 - val_accuracy: 0.9503\n",
            "Epoch 44/100\n",
            "21/21 [==============================] - 0s 3ms/step - loss: 0.1122 - accuracy: 0.9643 - val_loss: 0.2880 - val_accuracy: 0.9441\n",
            "Epoch 45/100\n",
            "21/21 [==============================] - 0s 4ms/step - loss: 0.1099 - accuracy: 0.9658 - val_loss: 0.2733 - val_accuracy: 0.9503\n",
            "Epoch 46/100\n",
            "21/21 [==============================] - 0s 3ms/step - loss: 0.1114 - accuracy: 0.9674 - val_loss: 0.2945 - val_accuracy: 0.9441\n",
            "Epoch 47/100\n",
            "21/21 [==============================] - 0s 3ms/step - loss: 0.1211 - accuracy: 0.9565 - val_loss: 0.2744 - val_accuracy: 0.9565\n",
            "Epoch 48/100\n",
            "21/21 [==============================] - 0s 4ms/step - loss: 0.1071 - accuracy: 0.9658 - val_loss: 0.3736 - val_accuracy: 0.9130\n",
            "Epoch 49/100\n",
            "21/21 [==============================] - 0s 3ms/step - loss: 0.2192 - accuracy: 0.9084 - val_loss: 0.3564 - val_accuracy: 0.9193\n",
            "Epoch 50/100\n",
            "21/21 [==============================] - 0s 3ms/step - loss: 0.1446 - accuracy: 0.9488 - val_loss: 0.3127 - val_accuracy: 0.9317\n",
            "Epoch 51/100\n",
            "21/21 [==============================] - 0s 3ms/step - loss: 0.1194 - accuracy: 0.9627 - val_loss: 0.2872 - val_accuracy: 0.9379\n",
            "Epoch 52/100\n",
            "21/21 [==============================] - 0s 3ms/step - loss: 0.1019 - accuracy: 0.9720 - val_loss: 0.2746 - val_accuracy: 0.9379\n",
            "Epoch 53/100\n",
            "21/21 [==============================] - 0s 4ms/step - loss: 0.1219 - accuracy: 0.9612 - val_loss: 0.3028 - val_accuracy: 0.9379\n",
            "Epoch 54/100\n",
            "21/21 [==============================] - 0s 4ms/step - loss: 0.1014 - accuracy: 0.9689 - val_loss: 0.2855 - val_accuracy: 0.9441\n",
            "Epoch 55/100\n",
            "21/21 [==============================] - 0s 3ms/step - loss: 0.0916 - accuracy: 0.9767 - val_loss: 0.3271 - val_accuracy: 0.9317\n",
            "Epoch 56/100\n",
            "21/21 [==============================] - 0s 4ms/step - loss: 0.1011 - accuracy: 0.9736 - val_loss: 0.2906 - val_accuracy: 0.9441\n",
            "Epoch 57/100\n",
            "21/21 [==============================] - 0s 4ms/step - loss: 0.0910 - accuracy: 0.9720 - val_loss: 0.2767 - val_accuracy: 0.9441\n",
            "Epoch 58/100\n",
            "21/21 [==============================] - 0s 4ms/step - loss: 0.0914 - accuracy: 0.9752 - val_loss: 0.2804 - val_accuracy: 0.9379\n",
            "Epoch 59/100\n",
            "21/21 [==============================] - 0s 4ms/step - loss: 0.0975 - accuracy: 0.9627 - val_loss: 0.2842 - val_accuracy: 0.9379\n",
            "Epoch 60/100\n",
            "21/21 [==============================] - 0s 3ms/step - loss: 0.0982 - accuracy: 0.9674 - val_loss: 0.2818 - val_accuracy: 0.9441\n",
            "Epoch 61/100\n",
            "21/21 [==============================] - 0s 3ms/step - loss: 0.0979 - accuracy: 0.9689 - val_loss: 0.3089 - val_accuracy: 0.9379\n",
            "Epoch 62/100\n",
            "21/21 [==============================] - 0s 4ms/step - loss: 0.0881 - accuracy: 0.9736 - val_loss: 0.2783 - val_accuracy: 0.9503\n",
            "Epoch 63/100\n",
            "21/21 [==============================] - 0s 4ms/step - loss: 0.0845 - accuracy: 0.9752 - val_loss: 0.2769 - val_accuracy: 0.9441\n",
            "Epoch 64/100\n",
            "21/21 [==============================] - 0s 3ms/step - loss: 0.0851 - accuracy: 0.9752 - val_loss: 0.2814 - val_accuracy: 0.9441\n",
            "Epoch 65/100\n",
            "21/21 [==============================] - 0s 3ms/step - loss: 0.0820 - accuracy: 0.9752 - val_loss: 0.2834 - val_accuracy: 0.9441\n",
            "Epoch 66/100\n",
            "21/21 [==============================] - 0s 3ms/step - loss: 0.0916 - accuracy: 0.9705 - val_loss: 0.2749 - val_accuracy: 0.9441\n",
            "Epoch 67/100\n",
            "21/21 [==============================] - 0s 4ms/step - loss: 0.0914 - accuracy: 0.9689 - val_loss: 0.2802 - val_accuracy: 0.9503\n",
            "Epoch 68/100\n",
            "21/21 [==============================] - 0s 3ms/step - loss: 0.0849 - accuracy: 0.9720 - val_loss: 0.2797 - val_accuracy: 0.9565\n",
            "Epoch 69/100\n",
            "21/21 [==============================] - 0s 3ms/step - loss: 0.1157 - accuracy: 0.9689 - val_loss: 0.2917 - val_accuracy: 0.9441\n",
            "Epoch 70/100\n",
            "21/21 [==============================] - 0s 3ms/step - loss: 0.0805 - accuracy: 0.9720 - val_loss: 0.2841 - val_accuracy: 0.9441\n",
            "Epoch 71/100\n",
            "21/21 [==============================] - 0s 3ms/step - loss: 0.0813 - accuracy: 0.9752 - val_loss: 0.3013 - val_accuracy: 0.9379\n",
            "Epoch 72/100\n",
            "21/21 [==============================] - 0s 3ms/step - loss: 0.0769 - accuracy: 0.9814 - val_loss: 0.2848 - val_accuracy: 0.9441\n",
            "Epoch 73/100\n",
            "21/21 [==============================] - 0s 3ms/step - loss: 0.0786 - accuracy: 0.9736 - val_loss: 0.2817 - val_accuracy: 0.9503\n",
            "Epoch 74/100\n",
            "21/21 [==============================] - 0s 3ms/step - loss: 0.0798 - accuracy: 0.9720 - val_loss: 0.2868 - val_accuracy: 0.9441\n",
            "Epoch 75/100\n",
            "21/21 [==============================] - 0s 4ms/step - loss: 0.0788 - accuracy: 0.9720 - val_loss: 0.2877 - val_accuracy: 0.9503\n",
            "Epoch 76/100\n",
            "21/21 [==============================] - 0s 4ms/step - loss: 0.0765 - accuracy: 0.9783 - val_loss: 0.2888 - val_accuracy: 0.9441\n",
            "Epoch 77/100\n",
            "21/21 [==============================] - 0s 4ms/step - loss: 0.0783 - accuracy: 0.9798 - val_loss: 0.2874 - val_accuracy: 0.9441\n",
            "Epoch 78/100\n",
            "21/21 [==============================] - 0s 4ms/step - loss: 0.0743 - accuracy: 0.9752 - val_loss: 0.2862 - val_accuracy: 0.9503\n",
            "Epoch 79/100\n",
            "21/21 [==============================] - 0s 4ms/step - loss: 0.0811 - accuracy: 0.9752 - val_loss: 0.2852 - val_accuracy: 0.9503\n",
            "Epoch 80/100\n",
            "21/21 [==============================] - 0s 4ms/step - loss: 0.0776 - accuracy: 0.9752 - val_loss: 0.2954 - val_accuracy: 0.9379\n",
            "Epoch 81/100\n",
            "21/21 [==============================] - 0s 3ms/step - loss: 0.0720 - accuracy: 0.9767 - val_loss: 0.2925 - val_accuracy: 0.9503\n",
            "Epoch 82/100\n",
            "21/21 [==============================] - 0s 4ms/step - loss: 0.0790 - accuracy: 0.9689 - val_loss: 0.2870 - val_accuracy: 0.9441\n",
            "Epoch 83/100\n",
            "21/21 [==============================] - 0s 4ms/step - loss: 0.0866 - accuracy: 0.9752 - val_loss: 0.2862 - val_accuracy: 0.9503\n",
            "Epoch 84/100\n",
            "21/21 [==============================] - 0s 3ms/step - loss: 0.0750 - accuracy: 0.9752 - val_loss: 0.2932 - val_accuracy: 0.9503\n",
            "Epoch 85/100\n",
            "21/21 [==============================] - 0s 4ms/step - loss: 0.0725 - accuracy: 0.9798 - val_loss: 0.2885 - val_accuracy: 0.9441\n",
            "Epoch 86/100\n",
            "21/21 [==============================] - 0s 4ms/step - loss: 0.0741 - accuracy: 0.9798 - val_loss: 0.2992 - val_accuracy: 0.9441\n",
            "Epoch 87/100\n",
            "21/21 [==============================] - 0s 4ms/step - loss: 0.0720 - accuracy: 0.9783 - val_loss: 0.3103 - val_accuracy: 0.9379\n",
            "Epoch 88/100\n",
            "21/21 [==============================] - 0s 4ms/step - loss: 0.0691 - accuracy: 0.9798 - val_loss: 0.3155 - val_accuracy: 0.9317\n",
            "Epoch 89/100\n",
            "21/21 [==============================] - 0s 4ms/step - loss: 0.0767 - accuracy: 0.9705 - val_loss: 0.3187 - val_accuracy: 0.9317\n",
            "Epoch 90/100\n",
            "21/21 [==============================] - 0s 4ms/step - loss: 0.0770 - accuracy: 0.9783 - val_loss: 0.3128 - val_accuracy: 0.9379\n",
            "Epoch 91/100\n",
            "21/21 [==============================] - 0s 5ms/step - loss: 0.0671 - accuracy: 0.9814 - val_loss: 0.2925 - val_accuracy: 0.9565\n",
            "Epoch 92/100\n",
            "21/21 [==============================] - 0s 3ms/step - loss: 0.0709 - accuracy: 0.9783 - val_loss: 0.3093 - val_accuracy: 0.9379\n",
            "Epoch 93/100\n",
            "21/21 [==============================] - 0s 4ms/step - loss: 0.0726 - accuracy: 0.9767 - val_loss: 0.2980 - val_accuracy: 0.9503\n",
            "Epoch 94/100\n",
            "21/21 [==============================] - 0s 3ms/step - loss: 0.0750 - accuracy: 0.9767 - val_loss: 0.3238 - val_accuracy: 0.9317\n",
            "Epoch 95/100\n",
            "21/21 [==============================] - 0s 5ms/step - loss: 0.0934 - accuracy: 0.9658 - val_loss: 0.3644 - val_accuracy: 0.9193\n",
            "Epoch 96/100\n",
            "21/21 [==============================] - 0s 4ms/step - loss: 0.0667 - accuracy: 0.9845 - val_loss: 0.3113 - val_accuracy: 0.9441\n",
            "Epoch 97/100\n",
            "21/21 [==============================] - 0s 3ms/step - loss: 0.0669 - accuracy: 0.9783 - val_loss: 0.2933 - val_accuracy: 0.9503\n",
            "Epoch 98/100\n",
            "21/21 [==============================] - 0s 3ms/step - loss: 0.0667 - accuracy: 0.9798 - val_loss: 0.3217 - val_accuracy: 0.9317\n",
            "Epoch 99/100\n",
            "21/21 [==============================] - 0s 4ms/step - loss: 0.0643 - accuracy: 0.9798 - val_loss: 0.3488 - val_accuracy: 0.9255\n",
            "Epoch 100/100\n",
            "21/21 [==============================] - 0s 4ms/step - loss: 0.0699 - accuracy: 0.9752 - val_loss: 0.3089 - val_accuracy: 0.9441\n"
          ]
        }
      ]
    },
    {
      "cell_type": "code",
      "metadata": {
        "colab": {
          "base_uri": "https://localhost:8080/"
        },
        "id": "l-sX5jbfIMl7",
        "outputId": "2d733b4d-75ce-445c-e6d7-45ccd93c25b4"
      },
      "source": [
        "accr = model.evaluate(X_test,y_test)\n",
        "print('Test set\\n  Loss: {:0.3f}\\n  Accuracy: {:0.3f}'.format(accr[0],accr[1]))"
      ],
      "execution_count": null,
      "outputs": [
        {
          "output_type": "stream",
          "name": "stdout",
          "text": [
            "7/7 [==============================] - 0s 3ms/step - loss: 0.2432 - accuracy: 0.9307\n",
            "Test set\n",
            "  Loss: 0.243\n",
            "  Accuracy: 0.931\n"
          ]
        }
      ]
    },
    {
      "cell_type": "code",
      "metadata": {
        "colab": {
          "base_uri": "https://localhost:8080/"
        },
        "id": "QFG9ZifSz7g2",
        "outputId": "024645b3-007d-4eac-f3e3-007fb9a2edf5"
      },
      "source": [
        "y_pred=model.predict(X_test)\n",
        "y_pred=np.argmax(y_pred, axis=1)\n",
        "y_pred.shape"
      ],
      "execution_count": null,
      "outputs": [
        {
          "output_type": "execute_result",
          "data": {
            "text/plain": [
              "(202,)"
            ]
          },
          "metadata": {},
          "execution_count": 44
        }
      ]
    },
    {
      "cell_type": "code",
      "metadata": {
        "colab": {
          "base_uri": "https://localhost:8080/"
        },
        "id": "fL6hKgGm1uhd",
        "outputId": "d359295e-753a-4de7-9f5f-aba628e7f0f1"
      },
      "source": [
        "y=np.array(y_test)\n",
        "y=np.argmax(y, axis=1)\n",
        "y.shape"
      ],
      "execution_count": null,
      "outputs": [
        {
          "output_type": "execute_result",
          "data": {
            "text/plain": [
              "(202,)"
            ]
          },
          "metadata": {},
          "execution_count": 47
        }
      ]
    },
    {
      "cell_type": "code",
      "metadata": {
        "colab": {
          "base_uri": "https://localhost:8080/"
        },
        "id": "KewrlcBEx-7Z",
        "outputId": "a2fd3898-3ebf-46ec-8c0e-3c42e74d1355"
      },
      "source": [
        "target_names=['Very Bad','Bad','Normal','Good','Very Good']\n",
        "print(classification_report(y, y_pred, target_names=target_names))"
      ],
      "execution_count": null,
      "outputs": [
        {
          "output_type": "stream",
          "name": "stdout",
          "text": [
            "              precision    recall  f1-score   support\n",
            "\n",
            "    Very Bad       1.00      0.86      0.93        29\n",
            "         Bad       0.90      0.92      0.91        62\n",
            "      Normal       0.94      0.98      0.96        65\n",
            "        Good       0.83      0.91      0.87        11\n",
            "   Very Good       0.94      0.91      0.93        35\n",
            "\n",
            "    accuracy                           0.93       202\n",
            "   macro avg       0.92      0.92      0.92       202\n",
            "weighted avg       0.93      0.93      0.93       202\n",
            "\n"
          ]
        }
      ]
    },
    {
      "cell_type": "code",
      "metadata": {
        "colab": {
          "base_uri": "https://localhost:8080/",
          "height": 288
        },
        "id": "ck7UNwV043Bj",
        "outputId": "8baeec22-a844-4b55-b264-caebed155bf8"
      },
      "source": [
        "from sklearn.metrics import confusion_matrix\n",
        "cm=confusion_matrix(y,y_pred)\n",
        "sns.heatmap(cm, annot=True, cmap=\"YlGnBu\")\n",
        "plt.xlabel('Actual Values', fontsize=20)\n",
        "plt.ylabel('Predicted Values', fontsize=20)\n",
        "plt.show();"
      ],
      "execution_count": null,
      "outputs": [
        {
          "output_type": "display_data",
          "data": {
            "image/png": "[encoded data removed]",
            "text/plain": [
              "<Figure size 432x288 with 2 Axes>"
            ]
          },
          "metadata": {
            "needs_background": "light"
          }
        }
      ]
    }
  ]
}